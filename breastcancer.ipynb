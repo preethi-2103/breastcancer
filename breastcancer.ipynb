{
 "cells": [
  {
   "cell_type": "markdown",
   "id": "6e1bd5cf",
   "metadata": {},
   "source": []
  },
  {
   "cell_type": "code",
   "execution_count": 1,
   "id": "07529651",
   "metadata": {},
   "outputs": [],
   "source": [
    "import pandas as pd"
   ]
  },
  {
   "cell_type": "code",
   "execution_count": 2,
   "id": "25c69015",
   "metadata": {},
   "outputs": [],
   "source": [
    "df = pd.read_csv(r\"C:/Users/Preethi/Downloads/breast-cancer.csv\")"
   ]
  },
  {
   "cell_type": "code",
   "execution_count": 33,
   "id": "1c7baf8f",
   "metadata": {},
   "outputs": [
    {
     "data": {
      "text/html": [
       "<div>\n",
       "<style scoped>\n",
       "    .dataframe tbody tr th:only-of-type {\n",
       "        vertical-align: middle;\n",
       "    }\n",
       "\n",
       "    .dataframe tbody tr th {\n",
       "        vertical-align: top;\n",
       "    }\n",
       "\n",
       "    .dataframe thead th {\n",
       "        text-align: right;\n",
       "    }\n",
       "</style>\n",
       "<table border=\"1\" class=\"dataframe\">\n",
       "  <thead>\n",
       "    <tr style=\"text-align: right;\">\n",
       "      <th></th>\n",
       "      <th>diagnosis</th>\n",
       "      <th>radius_mean</th>\n",
       "      <th>texture_mean</th>\n",
       "      <th>perimeter_mean</th>\n",
       "      <th>area_mean</th>\n",
       "      <th>smoothness_mean</th>\n",
       "      <th>compactness_mean</th>\n",
       "      <th>concavity_mean</th>\n",
       "      <th>concave points_mean</th>\n",
       "      <th>symmetry_mean</th>\n",
       "      <th>...</th>\n",
       "      <th>texture_worst</th>\n",
       "      <th>perimeter_worst</th>\n",
       "      <th>area_worst</th>\n",
       "      <th>smoothness_worst</th>\n",
       "      <th>compactness_worst</th>\n",
       "      <th>concavity_worst</th>\n",
       "      <th>concave points_worst</th>\n",
       "      <th>symmetry_worst</th>\n",
       "      <th>fractal_dimension_worst</th>\n",
       "      <th>smoking</th>\n",
       "    </tr>\n",
       "  </thead>\n",
       "  <tbody>\n",
       "    <tr>\n",
       "      <th>0</th>\n",
       "      <td>1</td>\n",
       "      <td>17.99</td>\n",
       "      <td>10.38</td>\n",
       "      <td>122.80</td>\n",
       "      <td>1001.0</td>\n",
       "      <td>0.11840</td>\n",
       "      <td>0.27760</td>\n",
       "      <td>0.3001</td>\n",
       "      <td>0.14710</td>\n",
       "      <td>0.2419</td>\n",
       "      <td>...</td>\n",
       "      <td>17.33</td>\n",
       "      <td>184.60</td>\n",
       "      <td>2019.0</td>\n",
       "      <td>0.1622</td>\n",
       "      <td>0.6656</td>\n",
       "      <td>0.7119</td>\n",
       "      <td>0.2654</td>\n",
       "      <td>0.4601</td>\n",
       "      <td>0.11890</td>\n",
       "      <td>never</td>\n",
       "    </tr>\n",
       "    <tr>\n",
       "      <th>1</th>\n",
       "      <td>1</td>\n",
       "      <td>20.57</td>\n",
       "      <td>17.77</td>\n",
       "      <td>132.90</td>\n",
       "      <td>1326.0</td>\n",
       "      <td>0.08474</td>\n",
       "      <td>0.07864</td>\n",
       "      <td>0.0869</td>\n",
       "      <td>0.07017</td>\n",
       "      <td>0.1812</td>\n",
       "      <td>...</td>\n",
       "      <td>23.41</td>\n",
       "      <td>158.80</td>\n",
       "      <td>1956.0</td>\n",
       "      <td>0.1238</td>\n",
       "      <td>0.1866</td>\n",
       "      <td>0.2416</td>\n",
       "      <td>0.1860</td>\n",
       "      <td>0.2750</td>\n",
       "      <td>0.08902</td>\n",
       "      <td>often</td>\n",
       "    </tr>\n",
       "    <tr>\n",
       "      <th>2</th>\n",
       "      <td>1</td>\n",
       "      <td>19.69</td>\n",
       "      <td>21.25</td>\n",
       "      <td>130.00</td>\n",
       "      <td>1203.0</td>\n",
       "      <td>0.10960</td>\n",
       "      <td>0.15990</td>\n",
       "      <td>0.1974</td>\n",
       "      <td>0.12790</td>\n",
       "      <td>0.2069</td>\n",
       "      <td>...</td>\n",
       "      <td>25.53</td>\n",
       "      <td>152.50</td>\n",
       "      <td>1709.0</td>\n",
       "      <td>0.1444</td>\n",
       "      <td>0.4245</td>\n",
       "      <td>0.4504</td>\n",
       "      <td>0.2430</td>\n",
       "      <td>0.3613</td>\n",
       "      <td>0.08758</td>\n",
       "      <td>daily</td>\n",
       "    </tr>\n",
       "    <tr>\n",
       "      <th>3</th>\n",
       "      <td>1</td>\n",
       "      <td>11.42</td>\n",
       "      <td>20.38</td>\n",
       "      <td>77.58</td>\n",
       "      <td>386.1</td>\n",
       "      <td>0.14250</td>\n",
       "      <td>0.28390</td>\n",
       "      <td>0.2414</td>\n",
       "      <td>0.10520</td>\n",
       "      <td>0.2597</td>\n",
       "      <td>...</td>\n",
       "      <td>26.50</td>\n",
       "      <td>98.87</td>\n",
       "      <td>567.7</td>\n",
       "      <td>0.2098</td>\n",
       "      <td>0.8663</td>\n",
       "      <td>0.6869</td>\n",
       "      <td>0.2575</td>\n",
       "      <td>0.6638</td>\n",
       "      <td>0.17300</td>\n",
       "      <td>daily</td>\n",
       "    </tr>\n",
       "    <tr>\n",
       "      <th>4</th>\n",
       "      <td>1</td>\n",
       "      <td>20.29</td>\n",
       "      <td>14.34</td>\n",
       "      <td>135.10</td>\n",
       "      <td>1297.0</td>\n",
       "      <td>0.10030</td>\n",
       "      <td>0.13280</td>\n",
       "      <td>0.1980</td>\n",
       "      <td>0.10430</td>\n",
       "      <td>0.1809</td>\n",
       "      <td>...</td>\n",
       "      <td>16.67</td>\n",
       "      <td>152.20</td>\n",
       "      <td>1575.0</td>\n",
       "      <td>0.1374</td>\n",
       "      <td>0.2050</td>\n",
       "      <td>0.4000</td>\n",
       "      <td>0.1625</td>\n",
       "      <td>0.2364</td>\n",
       "      <td>0.07678</td>\n",
       "      <td>daily</td>\n",
       "    </tr>\n",
       "    <tr>\n",
       "      <th>...</th>\n",
       "      <td>...</td>\n",
       "      <td>...</td>\n",
       "      <td>...</td>\n",
       "      <td>...</td>\n",
       "      <td>...</td>\n",
       "      <td>...</td>\n",
       "      <td>...</td>\n",
       "      <td>...</td>\n",
       "      <td>...</td>\n",
       "      <td>...</td>\n",
       "      <td>...</td>\n",
       "      <td>...</td>\n",
       "      <td>...</td>\n",
       "      <td>...</td>\n",
       "      <td>...</td>\n",
       "      <td>...</td>\n",
       "      <td>...</td>\n",
       "      <td>...</td>\n",
       "      <td>...</td>\n",
       "      <td>...</td>\n",
       "      <td>...</td>\n",
       "    </tr>\n",
       "    <tr>\n",
       "      <th>1173</th>\n",
       "      <td>1</td>\n",
       "      <td>626.60</td>\n",
       "      <td>635.33</td>\n",
       "      <td>746.10</td>\n",
       "      <td>1871.0</td>\n",
       "      <td>606.11780</td>\n",
       "      <td>606.27700</td>\n",
       "      <td>606.3514</td>\n",
       "      <td>606.15200</td>\n",
       "      <td>606.2397</td>\n",
       "      <td>...</td>\n",
       "      <td>645.42</td>\n",
       "      <td>790.60</td>\n",
       "      <td>2427.0</td>\n",
       "      <td>606.1650</td>\n",
       "      <td>606.8681</td>\n",
       "      <td>606.9387</td>\n",
       "      <td>606.2650</td>\n",
       "      <td>606.4087</td>\n",
       "      <td>606.12400</td>\n",
       "      <td>often</td>\n",
       "    </tr>\n",
       "    <tr>\n",
       "      <th>1174</th>\n",
       "      <td>1</td>\n",
       "      <td>627.60</td>\n",
       "      <td>636.33</td>\n",
       "      <td>747.10</td>\n",
       "      <td>1872.0</td>\n",
       "      <td>607.11780</td>\n",
       "      <td>607.27700</td>\n",
       "      <td>607.3514</td>\n",
       "      <td>607.15200</td>\n",
       "      <td>607.2397</td>\n",
       "      <td>...</td>\n",
       "      <td>646.42</td>\n",
       "      <td>791.60</td>\n",
       "      <td>2428.0</td>\n",
       "      <td>607.1650</td>\n",
       "      <td>607.8681</td>\n",
       "      <td>607.9387</td>\n",
       "      <td>607.2650</td>\n",
       "      <td>607.4087</td>\n",
       "      <td>607.12400</td>\n",
       "      <td>often</td>\n",
       "    </tr>\n",
       "    <tr>\n",
       "      <th>1175</th>\n",
       "      <td>1</td>\n",
       "      <td>628.60</td>\n",
       "      <td>637.33</td>\n",
       "      <td>748.10</td>\n",
       "      <td>1873.0</td>\n",
       "      <td>608.11780</td>\n",
       "      <td>608.27700</td>\n",
       "      <td>608.3514</td>\n",
       "      <td>608.15200</td>\n",
       "      <td>608.2397</td>\n",
       "      <td>...</td>\n",
       "      <td>647.42</td>\n",
       "      <td>792.60</td>\n",
       "      <td>2429.0</td>\n",
       "      <td>608.1650</td>\n",
       "      <td>608.8681</td>\n",
       "      <td>608.9387</td>\n",
       "      <td>608.2650</td>\n",
       "      <td>608.4087</td>\n",
       "      <td>608.12400</td>\n",
       "      <td>often</td>\n",
       "    </tr>\n",
       "    <tr>\n",
       "      <th>1176</th>\n",
       "      <td>1</td>\n",
       "      <td>629.60</td>\n",
       "      <td>638.33</td>\n",
       "      <td>749.10</td>\n",
       "      <td>1874.0</td>\n",
       "      <td>609.11780</td>\n",
       "      <td>609.27700</td>\n",
       "      <td>609.3514</td>\n",
       "      <td>609.15200</td>\n",
       "      <td>609.2397</td>\n",
       "      <td>...</td>\n",
       "      <td>648.42</td>\n",
       "      <td>793.60</td>\n",
       "      <td>2430.0</td>\n",
       "      <td>609.1650</td>\n",
       "      <td>609.8681</td>\n",
       "      <td>609.9387</td>\n",
       "      <td>609.2650</td>\n",
       "      <td>609.4087</td>\n",
       "      <td>609.12400</td>\n",
       "      <td>often</td>\n",
       "    </tr>\n",
       "    <tr>\n",
       "      <th>1177</th>\n",
       "      <td>1</td>\n",
       "      <td>630.60</td>\n",
       "      <td>639.33</td>\n",
       "      <td>750.10</td>\n",
       "      <td>1875.0</td>\n",
       "      <td>610.11780</td>\n",
       "      <td>610.27700</td>\n",
       "      <td>610.3514</td>\n",
       "      <td>610.15200</td>\n",
       "      <td>610.2397</td>\n",
       "      <td>...</td>\n",
       "      <td>649.42</td>\n",
       "      <td>794.60</td>\n",
       "      <td>2431.0</td>\n",
       "      <td>610.1650</td>\n",
       "      <td>610.8681</td>\n",
       "      <td>610.9387</td>\n",
       "      <td>610.2650</td>\n",
       "      <td>610.4087</td>\n",
       "      <td>610.12400</td>\n",
       "      <td>often</td>\n",
       "    </tr>\n",
       "  </tbody>\n",
       "</table>\n",
       "<p>1178 rows × 32 columns</p>\n",
       "</div>"
      ],
      "text/plain": [
       "      diagnosis  radius_mean  texture_mean  perimeter_mean  area_mean  \\\n",
       "0             1        17.99         10.38          122.80     1001.0   \n",
       "1             1        20.57         17.77          132.90     1326.0   \n",
       "2             1        19.69         21.25          130.00     1203.0   \n",
       "3             1        11.42         20.38           77.58      386.1   \n",
       "4             1        20.29         14.34          135.10     1297.0   \n",
       "...         ...          ...           ...             ...        ...   \n",
       "1173          1       626.60        635.33          746.10     1871.0   \n",
       "1174          1       627.60        636.33          747.10     1872.0   \n",
       "1175          1       628.60        637.33          748.10     1873.0   \n",
       "1176          1       629.60        638.33          749.10     1874.0   \n",
       "1177          1       630.60        639.33          750.10     1875.0   \n",
       "\n",
       "      smoothness_mean  compactness_mean  concavity_mean  concave points_mean  \\\n",
       "0             0.11840           0.27760          0.3001              0.14710   \n",
       "1             0.08474           0.07864          0.0869              0.07017   \n",
       "2             0.10960           0.15990          0.1974              0.12790   \n",
       "3             0.14250           0.28390          0.2414              0.10520   \n",
       "4             0.10030           0.13280          0.1980              0.10430   \n",
       "...               ...               ...             ...                  ...   \n",
       "1173        606.11780         606.27700        606.3514            606.15200   \n",
       "1174        607.11780         607.27700        607.3514            607.15200   \n",
       "1175        608.11780         608.27700        608.3514            608.15200   \n",
       "1176        609.11780         609.27700        609.3514            609.15200   \n",
       "1177        610.11780         610.27700        610.3514            610.15200   \n",
       "\n",
       "      symmetry_mean  ...  texture_worst  perimeter_worst  area_worst  \\\n",
       "0            0.2419  ...          17.33           184.60      2019.0   \n",
       "1            0.1812  ...          23.41           158.80      1956.0   \n",
       "2            0.2069  ...          25.53           152.50      1709.0   \n",
       "3            0.2597  ...          26.50            98.87       567.7   \n",
       "4            0.1809  ...          16.67           152.20      1575.0   \n",
       "...             ...  ...            ...              ...         ...   \n",
       "1173       606.2397  ...         645.42           790.60      2427.0   \n",
       "1174       607.2397  ...         646.42           791.60      2428.0   \n",
       "1175       608.2397  ...         647.42           792.60      2429.0   \n",
       "1176       609.2397  ...         648.42           793.60      2430.0   \n",
       "1177       610.2397  ...         649.42           794.60      2431.0   \n",
       "\n",
       "      smoothness_worst  compactness_worst  concavity_worst  \\\n",
       "0               0.1622             0.6656           0.7119   \n",
       "1               0.1238             0.1866           0.2416   \n",
       "2               0.1444             0.4245           0.4504   \n",
       "3               0.2098             0.8663           0.6869   \n",
       "4               0.1374             0.2050           0.4000   \n",
       "...                ...                ...              ...   \n",
       "1173          606.1650           606.8681         606.9387   \n",
       "1174          607.1650           607.8681         607.9387   \n",
       "1175          608.1650           608.8681         608.9387   \n",
       "1176          609.1650           609.8681         609.9387   \n",
       "1177          610.1650           610.8681         610.9387   \n",
       "\n",
       "      concave points_worst  symmetry_worst  fractal_dimension_worst  smoking  \n",
       "0                   0.2654          0.4601                  0.11890    never  \n",
       "1                   0.1860          0.2750                  0.08902    often  \n",
       "2                   0.2430          0.3613                  0.08758    daily  \n",
       "3                   0.2575          0.6638                  0.17300    daily  \n",
       "4                   0.1625          0.2364                  0.07678    daily  \n",
       "...                    ...             ...                      ...      ...  \n",
       "1173              606.2650        606.4087                606.12400    often  \n",
       "1174              607.2650        607.4087                607.12400    often  \n",
       "1175              608.2650        608.4087                608.12400    often  \n",
       "1176              609.2650        609.4087                609.12400    often  \n",
       "1177              610.2650        610.4087                610.12400    often  \n",
       "\n",
       "[1178 rows x 32 columns]"
      ]
     },
     "execution_count": 33,
     "metadata": {},
     "output_type": "execute_result"
    }
   ],
   "source": [
    "df"
   ]
  },
  {
   "cell_type": "code",
   "execution_count": 34,
   "id": "c78c4441",
   "metadata": {},
   "outputs": [
    {
     "data": {
      "text/plain": [
       "1    822\n",
       "0    356\n",
       "Name: diagnosis, dtype: int64"
      ]
     },
     "execution_count": 34,
     "metadata": {},
     "output_type": "execute_result"
    }
   ],
   "source": [
    "df[\"diagnosis\"].value_counts()"
   ]
  },
  {
   "cell_type": "markdown",
   "id": "8ec7f0f6",
   "metadata": {},
   "source": []
  },
  {
   "cell_type": "code",
   "execution_count": 6,
   "id": "32493ee2",
   "metadata": {},
   "outputs": [
    {
     "name": "stdout",
     "output_type": "stream",
     "text": [
      "<class 'pandas.core.frame.DataFrame'>\n",
      "RangeIndex: 1178 entries, 0 to 1177\n",
      "Data columns (total 34 columns):\n",
      " #   Column                   Non-Null Count  Dtype  \n",
      "---  ------                   --------------  -----  \n",
      " 0   id                       1178 non-null   int64  \n",
      " 1   diagnosis                1178 non-null   object \n",
      " 2   radius_mean              1178 non-null   float64\n",
      " 3   texture_mean             1178 non-null   float64\n",
      " 4   perimeter_mean           1178 non-null   float64\n",
      " 5   area_mean                1178 non-null   float64\n",
      " 6   smoothness_mean          1178 non-null   float64\n",
      " 7   compactness_mean         1178 non-null   float64\n",
      " 8   concavity_mean           1178 non-null   float64\n",
      " 9   concave points_mean      1178 non-null   float64\n",
      " 10  symmetry_mean            1178 non-null   float64\n",
      " 11  fractal_dimension_mean   1178 non-null   float64\n",
      " 12  radius_se                1178 non-null   float64\n",
      " 13  texture_se               1178 non-null   float64\n",
      " 14  perimeter_se             1178 non-null   float64\n",
      " 15  area_se                  1178 non-null   float64\n",
      " 16  smoothness_se            1178 non-null   float64\n",
      " 17  compactness_se           1178 non-null   float64\n",
      " 18  concavity_se             1178 non-null   float64\n",
      " 19  concave points_se        1178 non-null   float64\n",
      " 20  symmetry_se              1178 non-null   float64\n",
      " 21  fractal_dimension_se     1178 non-null   float64\n",
      " 22  radius_worst             1178 non-null   float64\n",
      " 23  texture_worst            1178 non-null   float64\n",
      " 24  perimeter_worst          1178 non-null   float64\n",
      " 25  area_worst               1178 non-null   float64\n",
      " 26  smoothness_worst         1178 non-null   float64\n",
      " 27  compactness_worst        1178 non-null   float64\n",
      " 28  concavity_worst          1178 non-null   float64\n",
      " 29  concave points_worst     1178 non-null   float64\n",
      " 30  symmetry_worst           1178 non-null   float64\n",
      " 31  fractal_dimension_worst  1178 non-null   float64\n",
      " 32  Unamed:32                0 non-null      float64\n",
      " 33  smoking                  1178 non-null   object \n",
      "dtypes: float64(31), int64(1), object(2)\n",
      "memory usage: 313.0+ KB\n"
     ]
    }
   ],
   "source": [
    "df.info()"
   ]
  },
  {
   "cell_type": "code",
   "execution_count": 7,
   "id": "e89e3b31",
   "metadata": {},
   "outputs": [
    {
     "data": {
      "text/html": [
       "<div>\n",
       "<style scoped>\n",
       "    .dataframe tbody tr th:only-of-type {\n",
       "        vertical-align: middle;\n",
       "    }\n",
       "\n",
       "    .dataframe tbody tr th {\n",
       "        vertical-align: top;\n",
       "    }\n",
       "\n",
       "    .dataframe thead th {\n",
       "        text-align: right;\n",
       "    }\n",
       "</style>\n",
       "<table border=\"1\" class=\"dataframe\">\n",
       "  <thead>\n",
       "    <tr style=\"text-align: right;\">\n",
       "      <th></th>\n",
       "      <th>id</th>\n",
       "      <th>radius_mean</th>\n",
       "      <th>texture_mean</th>\n",
       "      <th>perimeter_mean</th>\n",
       "      <th>area_mean</th>\n",
       "      <th>smoothness_mean</th>\n",
       "      <th>compactness_mean</th>\n",
       "      <th>concavity_mean</th>\n",
       "      <th>concave points_mean</th>\n",
       "      <th>symmetry_mean</th>\n",
       "      <th>...</th>\n",
       "      <th>texture_worst</th>\n",
       "      <th>perimeter_worst</th>\n",
       "      <th>area_worst</th>\n",
       "      <th>smoothness_worst</th>\n",
       "      <th>compactness_worst</th>\n",
       "      <th>concavity_worst</th>\n",
       "      <th>concave points_worst</th>\n",
       "      <th>symmetry_worst</th>\n",
       "      <th>fractal_dimension_worst</th>\n",
       "      <th>Unamed:32</th>\n",
       "    </tr>\n",
       "  </thead>\n",
       "  <tbody>\n",
       "    <tr>\n",
       "      <th>count</th>\n",
       "      <td>1.178000e+03</td>\n",
       "      <td>1178.000000</td>\n",
       "      <td>1178.000000</td>\n",
       "      <td>1178.000000</td>\n",
       "      <td>1178.000000</td>\n",
       "      <td>1178.000000</td>\n",
       "      <td>1178.000000</td>\n",
       "      <td>1178.000000</td>\n",
       "      <td>1178.000000</td>\n",
       "      <td>1178.000000</td>\n",
       "      <td>...</td>\n",
       "      <td>1178.000000</td>\n",
       "      <td>1178.000000</td>\n",
       "      <td>1178.000000</td>\n",
       "      <td>1178.000000</td>\n",
       "      <td>1178.000000</td>\n",
       "      <td>1178.000000</td>\n",
       "      <td>1178.000000</td>\n",
       "      <td>1178.000000</td>\n",
       "      <td>1178.000000</td>\n",
       "      <td>0.0</td>\n",
       "    </tr>\n",
       "    <tr>\n",
       "      <th>mean</th>\n",
       "      <td>1.515049e+07</td>\n",
       "      <td>175.680534</td>\n",
       "      <td>182.680450</td>\n",
       "      <td>275.126027</td>\n",
       "      <td>1129.419270</td>\n",
       "      <td>158.303595</td>\n",
       "      <td>158.389895</td>\n",
       "      <td>158.420951</td>\n",
       "      <td>158.298434</td>\n",
       "      <td>158.407589</td>\n",
       "      <td>...</td>\n",
       "      <td>190.985713</td>\n",
       "      <td>305.546239</td>\n",
       "      <td>1526.271817</td>\n",
       "      <td>158.345397</td>\n",
       "      <td>158.768381</td>\n",
       "      <td>158.813652</td>\n",
       "      <td>158.388677</td>\n",
       "      <td>158.547600</td>\n",
       "      <td>158.300794</td>\n",
       "      <td>NaN</td>\n",
       "    </tr>\n",
       "    <tr>\n",
       "      <th>std</th>\n",
       "      <td>8.808800e+07</td>\n",
       "      <td>200.988098</td>\n",
       "      <td>202.390256</td>\n",
       "      <td>218.152762</td>\n",
       "      <td>533.628912</td>\n",
       "      <td>198.485538</td>\n",
       "      <td>198.543703</td>\n",
       "      <td>198.578294</td>\n",
       "      <td>198.516942</td>\n",
       "      <td>198.499824</td>\n",
       "      <td>...</td>\n",
       "      <td>203.858516</td>\n",
       "      <td>230.701478</td>\n",
       "      <td>747.951851</td>\n",
       "      <td>198.489845</td>\n",
       "      <td>198.713426</td>\n",
       "      <td>198.733672</td>\n",
       "      <td>198.535102</td>\n",
       "      <td>198.522955</td>\n",
       "      <td>198.492719</td>\n",
       "      <td>NaN</td>\n",
       "    </tr>\n",
       "    <tr>\n",
       "      <th>min</th>\n",
       "      <td>8.670000e+03</td>\n",
       "      <td>6.981000</td>\n",
       "      <td>9.710000</td>\n",
       "      <td>43.790000</td>\n",
       "      <td>143.500000</td>\n",
       "      <td>0.062510</td>\n",
       "      <td>0.019380</td>\n",
       "      <td>0.000000</td>\n",
       "      <td>0.000000</td>\n",
       "      <td>0.106000</td>\n",
       "      <td>...</td>\n",
       "      <td>12.020000</td>\n",
       "      <td>50.410000</td>\n",
       "      <td>185.200000</td>\n",
       "      <td>0.071170</td>\n",
       "      <td>0.027290</td>\n",
       "      <td>0.000000</td>\n",
       "      <td>0.000000</td>\n",
       "      <td>0.156500</td>\n",
       "      <td>0.055040</td>\n",
       "      <td>NaN</td>\n",
       "    </tr>\n",
       "    <tr>\n",
       "      <th>25%</th>\n",
       "      <td>9.082568e+05</td>\n",
       "      <td>13.492500</td>\n",
       "      <td>19.025000</td>\n",
       "      <td>87.320000</td>\n",
       "      <td>561.075000</td>\n",
       "      <td>0.096863</td>\n",
       "      <td>0.096700</td>\n",
       "      <td>0.066397</td>\n",
       "      <td>0.035748</td>\n",
       "      <td>0.180125</td>\n",
       "      <td>...</td>\n",
       "      <td>25.542500</td>\n",
       "      <td>98.932500</td>\n",
       "      <td>700.025000</td>\n",
       "      <td>0.132700</td>\n",
       "      <td>0.219900</td>\n",
       "      <td>0.239325</td>\n",
       "      <td>0.103750</td>\n",
       "      <td>0.283800</td>\n",
       "      <td>0.080625</td>\n",
       "      <td>NaN</td>\n",
       "    </tr>\n",
       "    <tr>\n",
       "      <th>50%</th>\n",
       "      <td>9.274465e+05</td>\n",
       "      <td>42.100000</td>\n",
       "      <td>50.830000</td>\n",
       "      <td>166.650000</td>\n",
       "      <td>1314.500000</td>\n",
       "      <td>21.617800</td>\n",
       "      <td>21.777000</td>\n",
       "      <td>21.851400</td>\n",
       "      <td>21.652000</td>\n",
       "      <td>21.739700</td>\n",
       "      <td>...</td>\n",
       "      <td>60.920000</td>\n",
       "      <td>211.550000</td>\n",
       "      <td>1879.500000</td>\n",
       "      <td>21.665000</td>\n",
       "      <td>22.368100</td>\n",
       "      <td>22.438700</td>\n",
       "      <td>21.765000</td>\n",
       "      <td>21.908700</td>\n",
       "      <td>21.624000</td>\n",
       "      <td>NaN</td>\n",
       "    </tr>\n",
       "    <tr>\n",
       "      <th>75%</th>\n",
       "      <td>9.277408e+05</td>\n",
       "      <td>336.350000</td>\n",
       "      <td>345.080000</td>\n",
       "      <td>455.850000</td>\n",
       "      <td>1592.750000</td>\n",
       "      <td>315.867800</td>\n",
       "      <td>316.027000</td>\n",
       "      <td>316.101400</td>\n",
       "      <td>315.902000</td>\n",
       "      <td>315.989700</td>\n",
       "      <td>...</td>\n",
       "      <td>355.170000</td>\n",
       "      <td>500.350000</td>\n",
       "      <td>2156.750000</td>\n",
       "      <td>315.915000</td>\n",
       "      <td>316.618100</td>\n",
       "      <td>316.688700</td>\n",
       "      <td>316.015000</td>\n",
       "      <td>316.158700</td>\n",
       "      <td>315.874000</td>\n",
       "      <td>NaN</td>\n",
       "    </tr>\n",
       "    <tr>\n",
       "      <th>max</th>\n",
       "      <td>9.113205e+08</td>\n",
       "      <td>630.600000</td>\n",
       "      <td>639.330000</td>\n",
       "      <td>750.100000</td>\n",
       "      <td>2501.000000</td>\n",
       "      <td>610.117800</td>\n",
       "      <td>610.277000</td>\n",
       "      <td>610.351400</td>\n",
       "      <td>610.152000</td>\n",
       "      <td>610.239700</td>\n",
       "      <td>...</td>\n",
       "      <td>649.420000</td>\n",
       "      <td>794.600000</td>\n",
       "      <td>4254.000000</td>\n",
       "      <td>610.165000</td>\n",
       "      <td>610.868100</td>\n",
       "      <td>610.938700</td>\n",
       "      <td>610.265000</td>\n",
       "      <td>610.408700</td>\n",
       "      <td>610.124000</td>\n",
       "      <td>NaN</td>\n",
       "    </tr>\n",
       "  </tbody>\n",
       "</table>\n",
       "<p>8 rows × 32 columns</p>\n",
       "</div>"
      ],
      "text/plain": [
       "                 id  radius_mean  texture_mean  perimeter_mean    area_mean  \\\n",
       "count  1.178000e+03  1178.000000   1178.000000     1178.000000  1178.000000   \n",
       "mean   1.515049e+07   175.680534    182.680450      275.126027  1129.419270   \n",
       "std    8.808800e+07   200.988098    202.390256      218.152762   533.628912   \n",
       "min    8.670000e+03     6.981000      9.710000       43.790000   143.500000   \n",
       "25%    9.082568e+05    13.492500     19.025000       87.320000   561.075000   \n",
       "50%    9.274465e+05    42.100000     50.830000      166.650000  1314.500000   \n",
       "75%    9.277408e+05   336.350000    345.080000      455.850000  1592.750000   \n",
       "max    9.113205e+08   630.600000    639.330000      750.100000  2501.000000   \n",
       "\n",
       "       smoothness_mean  compactness_mean  concavity_mean  concave points_mean  \\\n",
       "count      1178.000000       1178.000000     1178.000000          1178.000000   \n",
       "mean        158.303595        158.389895      158.420951           158.298434   \n",
       "std         198.485538        198.543703      198.578294           198.516942   \n",
       "min           0.062510          0.019380        0.000000             0.000000   \n",
       "25%           0.096863          0.096700        0.066397             0.035748   \n",
       "50%          21.617800         21.777000       21.851400            21.652000   \n",
       "75%         315.867800        316.027000      316.101400           315.902000   \n",
       "max         610.117800        610.277000      610.351400           610.152000   \n",
       "\n",
       "       symmetry_mean  ...  texture_worst  perimeter_worst   area_worst  \\\n",
       "count    1178.000000  ...    1178.000000      1178.000000  1178.000000   \n",
       "mean      158.407589  ...     190.985713       305.546239  1526.271817   \n",
       "std       198.499824  ...     203.858516       230.701478   747.951851   \n",
       "min         0.106000  ...      12.020000        50.410000   185.200000   \n",
       "25%         0.180125  ...      25.542500        98.932500   700.025000   \n",
       "50%        21.739700  ...      60.920000       211.550000  1879.500000   \n",
       "75%       315.989700  ...     355.170000       500.350000  2156.750000   \n",
       "max       610.239700  ...     649.420000       794.600000  4254.000000   \n",
       "\n",
       "       smoothness_worst  compactness_worst  concavity_worst  \\\n",
       "count       1178.000000        1178.000000      1178.000000   \n",
       "mean         158.345397         158.768381       158.813652   \n",
       "std          198.489845         198.713426       198.733672   \n",
       "min            0.071170           0.027290         0.000000   \n",
       "25%            0.132700           0.219900         0.239325   \n",
       "50%           21.665000          22.368100        22.438700   \n",
       "75%          315.915000         316.618100       316.688700   \n",
       "max          610.165000         610.868100       610.938700   \n",
       "\n",
       "       concave points_worst  symmetry_worst  fractal_dimension_worst  \\\n",
       "count           1178.000000     1178.000000              1178.000000   \n",
       "mean             158.388677      158.547600               158.300794   \n",
       "std              198.535102      198.522955               198.492719   \n",
       "min                0.000000        0.156500                 0.055040   \n",
       "25%                0.103750        0.283800                 0.080625   \n",
       "50%               21.765000       21.908700                21.624000   \n",
       "75%              316.015000      316.158700               315.874000   \n",
       "max              610.265000      610.408700               610.124000   \n",
       "\n",
       "       Unamed:32  \n",
       "count        0.0  \n",
       "mean         NaN  \n",
       "std          NaN  \n",
       "min          NaN  \n",
       "25%          NaN  \n",
       "50%          NaN  \n",
       "75%          NaN  \n",
       "max          NaN  \n",
       "\n",
       "[8 rows x 32 columns]"
      ]
     },
     "execution_count": 7,
     "metadata": {},
     "output_type": "execute_result"
    }
   ],
   "source": [
    "df.describe()"
   ]
  },
  {
   "cell_type": "code",
   "execution_count": null,
   "id": "cb916881",
   "metadata": {},
   "outputs": [],
   "source": []
  },
  {
   "cell_type": "markdown",
   "id": "21a0c4f4",
   "metadata": {},
   "source": [
    "## Feature selection by graphical method"
   ]
  },
  {
   "cell_type": "code",
   "execution_count": 8,
   "id": "c1f8f998",
   "metadata": {},
   "outputs": [],
   "source": [
    "import seaborn as sns"
   ]
  },
  {
   "cell_type": "code",
   "execution_count": 9,
   "id": "89f4a158",
   "metadata": {},
   "outputs": [],
   "source": [
    "import matplotlib.pyplot as plt"
   ]
  },
  {
   "cell_type": "code",
   "execution_count": 11,
   "id": "afd337a9",
   "metadata": {},
   "outputs": [],
   "source": [
    "df['diagnosis'] = df['diagnosis'].apply(lambda val: 0 if val == 'B' else 1)\n"
   ]
  },
  {
   "cell_type": "code",
   "execution_count": 12,
   "id": "695e83b6",
   "metadata": {},
   "outputs": [
    {
     "name": "stderr",
     "output_type": "stream",
     "text": [
      "F:\\anaconda3\\lib\\site-packages\\seaborn\\_decorators.py:36: FutureWarning: Pass the following variables as keyword args: x, y. From version 0.12, the only valid positional argument will be `data`, and passing other arguments without an explicit keyword will result in an error or misinterpretation.\n",
      "  warnings.warn(\n",
      "F:\\anaconda3\\lib\\site-packages\\seaborn\\_decorators.py:36: FutureWarning: Pass the following variables as keyword args: x, y. From version 0.12, the only valid positional argument will be `data`, and passing other arguments without an explicit keyword will result in an error or misinterpretation.\n",
      "  warnings.warn(\n",
      "F:\\anaconda3\\lib\\site-packages\\seaborn\\_decorators.py:36: FutureWarning: Pass the following variables as keyword args: x, y. From version 0.12, the only valid positional argument will be `data`, and passing other arguments without an explicit keyword will result in an error or misinterpretation.\n",
      "  warnings.warn(\n",
      "F:\\anaconda3\\lib\\site-packages\\seaborn\\_decorators.py:36: FutureWarning: Pass the following variables as keyword args: x, y. From version 0.12, the only valid positional argument will be `data`, and passing other arguments without an explicit keyword will result in an error or misinterpretation.\n",
      "  warnings.warn(\n",
      "F:\\anaconda3\\lib\\site-packages\\seaborn\\_decorators.py:36: FutureWarning: Pass the following variables as keyword args: x, y. From version 0.12, the only valid positional argument will be `data`, and passing other arguments without an explicit keyword will result in an error or misinterpretation.\n",
      "  warnings.warn(\n",
      "F:\\anaconda3\\lib\\site-packages\\seaborn\\_decorators.py:36: FutureWarning: Pass the following variables as keyword args: x, y. From version 0.12, the only valid positional argument will be `data`, and passing other arguments without an explicit keyword will result in an error or misinterpretation.\n",
      "  warnings.warn(\n",
      "F:\\anaconda3\\lib\\site-packages\\seaborn\\_decorators.py:36: FutureWarning: Pass the following variables as keyword args: x, y. From version 0.12, the only valid positional argument will be `data`, and passing other arguments without an explicit keyword will result in an error or misinterpretation.\n",
      "  warnings.warn(\n",
      "F:\\anaconda3\\lib\\site-packages\\seaborn\\_decorators.py:36: FutureWarning: Pass the following variables as keyword args: x, y. From version 0.12, the only valid positional argument will be `data`, and passing other arguments without an explicit keyword will result in an error or misinterpretation.\n",
      "  warnings.warn(\n",
      "F:\\anaconda3\\lib\\site-packages\\seaborn\\_decorators.py:36: FutureWarning: Pass the following variables as keyword args: x, y. From version 0.12, the only valid positional argument will be `data`, and passing other arguments without an explicit keyword will result in an error or misinterpretation.\n",
      "  warnings.warn(\n",
      "F:\\anaconda3\\lib\\site-packages\\seaborn\\_decorators.py:36: FutureWarning: Pass the following variables as keyword args: x, y. From version 0.12, the only valid positional argument will be `data`, and passing other arguments without an explicit keyword will result in an error or misinterpretation.\n",
      "  warnings.warn(\n",
      "F:\\anaconda3\\lib\\site-packages\\seaborn\\_decorators.py:36: FutureWarning: Pass the following variables as keyword args: x, y. From version 0.12, the only valid positional argument will be `data`, and passing other arguments without an explicit keyword will result in an error or misinterpretation.\n",
      "  warnings.warn(\n",
      "F:\\anaconda3\\lib\\site-packages\\seaborn\\_decorators.py:36: FutureWarning: Pass the following variables as keyword args: x, y. From version 0.12, the only valid positional argument will be `data`, and passing other arguments without an explicit keyword will result in an error or misinterpretation.\n",
      "  warnings.warn(\n",
      "F:\\anaconda3\\lib\\site-packages\\seaborn\\_decorators.py:36: FutureWarning: Pass the following variables as keyword args: x, y. From version 0.12, the only valid positional argument will be `data`, and passing other arguments without an explicit keyword will result in an error or misinterpretation.\n",
      "  warnings.warn(\n",
      "F:\\anaconda3\\lib\\site-packages\\seaborn\\_decorators.py:36: FutureWarning: Pass the following variables as keyword args: x, y. From version 0.12, the only valid positional argument will be `data`, and passing other arguments without an explicit keyword will result in an error or misinterpretation.\n",
      "  warnings.warn(\n",
      "F:\\anaconda3\\lib\\site-packages\\seaborn\\_decorators.py:36: FutureWarning: Pass the following variables as keyword args: x, y. From version 0.12, the only valid positional argument will be `data`, and passing other arguments without an explicit keyword will result in an error or misinterpretation.\n",
      "  warnings.warn(\n",
      "F:\\anaconda3\\lib\\site-packages\\seaborn\\_decorators.py:36: FutureWarning: Pass the following variables as keyword args: x, y. From version 0.12, the only valid positional argument will be `data`, and passing other arguments without an explicit keyword will result in an error or misinterpretation.\n",
      "  warnings.warn(\n",
      "F:\\anaconda3\\lib\\site-packages\\seaborn\\_decorators.py:36: FutureWarning: Pass the following variables as keyword args: x, y. From version 0.12, the only valid positional argument will be `data`, and passing other arguments without an explicit keyword will result in an error or misinterpretation.\n",
      "  warnings.warn(\n",
      "F:\\anaconda3\\lib\\site-packages\\seaborn\\_decorators.py:36: FutureWarning: Pass the following variables as keyword args: x, y. From version 0.12, the only valid positional argument will be `data`, and passing other arguments without an explicit keyword will result in an error or misinterpretation.\n",
      "  warnings.warn(\n",
      "F:\\anaconda3\\lib\\site-packages\\seaborn\\_decorators.py:36: FutureWarning: Pass the following variables as keyword args: x, y. From version 0.12, the only valid positional argument will be `data`, and passing other arguments without an explicit keyword will result in an error or misinterpretation.\n",
      "  warnings.warn(\n",
      "F:\\anaconda3\\lib\\site-packages\\seaborn\\_decorators.py:36: FutureWarning: Pass the following variables as keyword args: x, y. From version 0.12, the only valid positional argument will be `data`, and passing other arguments without an explicit keyword will result in an error or misinterpretation.\n",
      "  warnings.warn(\n",
      "C:\\Users\\Preethi\\AppData\\Local\\Temp\\ipykernel_8656\\560194720.py:3: RuntimeWarning: More than 20 figures have been opened. Figures created through the pyplot interface (`matplotlib.pyplot.figure`) are retained until explicitly closed and may consume too much memory. (To control this warning, see the rcParam `figure.max_open_warning`).\n",
      "  plt.figure()\n",
      "F:\\anaconda3\\lib\\site-packages\\seaborn\\_decorators.py:36: FutureWarning: Pass the following variables as keyword args: x, y. From version 0.12, the only valid positional argument will be `data`, and passing other arguments without an explicit keyword will result in an error or misinterpretation.\n",
      "  warnings.warn(\n",
      "F:\\anaconda3\\lib\\site-packages\\seaborn\\_decorators.py:36: FutureWarning: Pass the following variables as keyword args: x, y. From version 0.12, the only valid positional argument will be `data`, and passing other arguments without an explicit keyword will result in an error or misinterpretation.\n",
      "  warnings.warn(\n",
      "F:\\anaconda3\\lib\\site-packages\\seaborn\\_decorators.py:36: FutureWarning: Pass the following variables as keyword args: x, y. From version 0.12, the only valid positional argument will be `data`, and passing other arguments without an explicit keyword will result in an error or misinterpretation.\n",
      "  warnings.warn(\n",
      "F:\\anaconda3\\lib\\site-packages\\seaborn\\_decorators.py:36: FutureWarning: Pass the following variables as keyword args: x, y. From version 0.12, the only valid positional argument will be `data`, and passing other arguments without an explicit keyword will result in an error or misinterpretation.\n",
      "  warnings.warn(\n",
      "F:\\anaconda3\\lib\\site-packages\\seaborn\\_decorators.py:36: FutureWarning: Pass the following variables as keyword args: x, y. From version 0.12, the only valid positional argument will be `data`, and passing other arguments without an explicit keyword will result in an error or misinterpretation.\n",
      "  warnings.warn(\n",
      "F:\\anaconda3\\lib\\site-packages\\seaborn\\_decorators.py:36: FutureWarning: Pass the following variables as keyword args: x, y. From version 0.12, the only valid positional argument will be `data`, and passing other arguments without an explicit keyword will result in an error or misinterpretation.\n",
      "  warnings.warn(\n",
      "F:\\anaconda3\\lib\\site-packages\\seaborn\\_decorators.py:36: FutureWarning: Pass the following variables as keyword args: x, y. From version 0.12, the only valid positional argument will be `data`, and passing other arguments without an explicit keyword will result in an error or misinterpretation.\n",
      "  warnings.warn(\n",
      "F:\\anaconda3\\lib\\site-packages\\seaborn\\_decorators.py:36: FutureWarning: Pass the following variables as keyword args: x, y. From version 0.12, the only valid positional argument will be `data`, and passing other arguments without an explicit keyword will result in an error or misinterpretation.\n",
      "  warnings.warn(\n",
      "F:\\anaconda3\\lib\\site-packages\\seaborn\\_decorators.py:36: FutureWarning: Pass the following variables as keyword args: x, y. From version 0.12, the only valid positional argument will be `data`, and passing other arguments without an explicit keyword will result in an error or misinterpretation.\n",
      "  warnings.warn(\n",
      "F:\\anaconda3\\lib\\site-packages\\seaborn\\_decorators.py:36: FutureWarning: Pass the following variables as keyword args: x, y. From version 0.12, the only valid positional argument will be `data`, and passing other arguments without an explicit keyword will result in an error or misinterpretation.\n",
      "  warnings.warn(\n",
      "F:\\anaconda3\\lib\\site-packages\\seaborn\\_decorators.py:36: FutureWarning: Pass the following variables as keyword args: x, y. From version 0.12, the only valid positional argument will be `data`, and passing other arguments without an explicit keyword will result in an error or misinterpretation.\n",
      "  warnings.warn(\n",
      "F:\\anaconda3\\lib\\site-packages\\seaborn\\_decorators.py:36: FutureWarning: Pass the following variables as keyword args: x, y. From version 0.12, the only valid positional argument will be `data`, and passing other arguments without an explicit keyword will result in an error or misinterpretation.\n",
      "  warnings.warn(\n",
      "F:\\anaconda3\\lib\\site-packages\\seaborn\\_decorators.py:36: FutureWarning: Pass the following variables as keyword args: x, y. From version 0.12, the only valid positional argument will be `data`, and passing other arguments without an explicit keyword will result in an error or misinterpretation.\n",
      "  warnings.warn(\n"
     ]
    },
    {
     "data": {
      "image/png": "[encoded data removed]",
      "text/plain": [
       "<Figure size 432x288 with 1 Axes>"
      ]
     },
     "metadata": {
      "needs_background": "light"
     },
     "output_type": "display_data"
    },
    {
     "data": {
      "image/png": "[encoded data removed]",
      "text/plain": [
       "<Figure size 432x288 with 1 Axes>"
      ]
     },
     "metadata": {
      "needs_background": "light"
     },
     "output_type": "display_data"
    },
    {
     "data": {
      "image/png": "[encoded data removed]",
      "text/plain": [
       "<Figure size 432x288 with 1 Axes>"
      ]
     },
     "metadata": {
      "needs_background": "light"
     },
     "output_type": "display_data"
    },
    {
     "data": {
      "image/png": "[encoded data removed]",
      "text/plain": [
       "<Figure size 432x288 with 1 Axes>"
      ]
     },
     "metadata": {
      "needs_background": "light"
     },
     "output_type": "display_data"
    },
    {
     "data": {
      "image/png": "[encoded data removed]",
      "text/plain": [
       "<Figure size 432x288 with 1 Axes>"
      ]
     },
     "metadata": {
      "needs_background": "light"
     },
     "output_type": "display_data"
    },
    {
     "data": {
      "image/png": "[encoded data removed]",
      "text/plain": [
       "<Figure size 432x288 with 1 Axes>"
      ]
     },
     "metadata": {
      "needs_background": "light"
     },
     "output_type": "display_data"
    },
    {
     "data": {
      "image/png": "[encoded data removed]",
      "text/plain": [
       "<Figure size 432x288 with 1 Axes>"
      ]
     },
     "metadata": {
      "needs_background": "light"
     },
     "output_type": "display_data"
    },
    {
     "data": {
      "image/png": "[encoded data removed]",
      "text/plain": [
       "<Figure size 432x288 with 1 Axes>"
      ]
     },
     "metadata": {
      "needs_background": "light"
     },
     "output_type": "display_data"
    },
    {
     "data": {
      "image/png": "[encoded data removed]",
      "text/plain": [
       "<Figure size 432x288 with 1 Axes>"
      ]
     },
     "metadata": {
      "needs_background": "light"
     },
     "output_type": "display_data"
    },
    {
     "data": {
      "image/png": "[encoded data removed]",
      "text/plain": [
       "<Figure size 432x288 with 1 Axes>"
      ]
     },
     "metadata": {
      "needs_background": "light"
     },
     "output_type": "display_data"
    },
    {
     "data": {
      "image/png": "[encoded data removed]",
      "text/plain": [
       "<Figure size 432x288 with 1 Axes>"
      ]
     },
     "metadata": {
      "needs_background": "light"
     },
     "output_type": "display_data"
    },
    {
     "data": {
      "image/png": "[encoded data removed]",
      "text/plain": [
       "<Figure size 432x288 with 1 Axes>"
      ]
     },
     "metadata": {
      "needs_background": "light"
     },
     "output_type": "display_data"
    },
    {
     "data": {
      "image/png": "[encoded data removed]",
      "text/plain": [
       "<Figure size 432x288 with 1 Axes>"
      ]
     },
     "metadata": {
      "needs_background": "light"
     },
     "output_type": "display_data"
    },
    {
     "data": {
      "image/png": "[encoded data removed]",
      "text/plain": [
       "<Figure size 432x288 with 1 Axes>"
      ]
     },
     "metadata": {
      "needs_background": "light"
     },
     "output_type": "display_data"
    },
    {
     "data": {
      "image/png": "[encoded data removed]",
      "text/plain": [
       "<Figure size 432x288 with 1 Axes>"
      ]
     },
     "metadata": {
      "needs_background": "light"
     },
     "output_type": "display_data"
    },
    {
     "data": {
      "image/png": "[encoded data removed]",
      "text/plain": [
       "<Figure size 432x288 with 1 Axes>"
      ]
     },
     "metadata": {
      "needs_background": "light"
     },
     "output_type": "display_data"
    },
    {
     "data": {
      "image/png": "[encoded data removed]",
      "text/plain": [
       "<Figure size 432x288 with 1 Axes>"
      ]
     },
     "metadata": {
      "needs_background": "light"
     },
     "output_type": "display_data"
    },
    {
     "data": {
      "image/png": "[encoded data removed]",
      "text/plain": [
       "<Figure size 432x288 with 1 Axes>"
      ]
     },
     "metadata": {
      "needs_background": "light"
     },
     "output_type": "display_data"
    },
    {
     "data": {
      "image/png": "[encoded data removed]",
      "text/plain": [
       "<Figure size 432x288 with 1 Axes>"
      ]
     },
     "metadata": {
      "needs_background": "light"
     },
     "output_type": "display_data"
    },
    {
     "data": {
      "image/png": "[encoded data removed]",
      "text/plain": [
       "<Figure size 432x288 with 1 Axes>"
      ]
     },
     "metadata": {
      "needs_background": "light"
     },
     "output_type": "display_data"
    },
    {
     "data": {
      "image/png": "[encoded data removed]",
      "text/plain": [
       "<Figure size 432x288 with 1 Axes>"
      ]
     },
     "metadata": {
      "needs_background": "light"
     },
     "output_type": "display_data"
    },
    {
     "data": {
      "image/png": "[encoded data removed]",
      "text/plain": [
       "<Figure size 432x288 with 1 Axes>"
      ]
     },
     "metadata": {
      "needs_background": "light"
     },
     "output_type": "display_data"
    },
    {
     "data": {
      "image/png": "[encoded data removed]",
      "text/plain": [
       "<Figure size 432x288 with 1 Axes>"
      ]
     },
     "metadata": {
      "needs_background": "light"
     },
     "output_type": "display_data"
    },
    {
     "data": {
      "image/png": "[encoded data removed]",
      "text/plain": [
       "<Figure size 432x288 with 1 Axes>"
      ]
     },
     "metadata": {
      "needs_background": "light"
     },
     "output_type": "display_data"
    },
    {
     "data": {
      "image/png": "[encoded data removed]",
      "text/plain": [
       "<Figure size 432x288 with 1 Axes>"
      ]
     },
     "metadata": {
      "needs_background": "light"
     },
     "output_type": "display_data"
    },
    {
     "data": {
      "image/png": "[encoded data removed]",
      "text/plain": [
       "<Figure size 432x288 with 1 Axes>"
      ]
     },
     "metadata": {
      "needs_background": "light"
     },
     "output_type": "display_data"
    },
    {
     "data": {
      "image/png": "[encoded data removed]",
      "text/plain": [
       "<Figure size 432x288 with 1 Axes>"
      ]
     },
     "metadata": {
      "needs_background": "light"
     },
     "output_type": "display_data"
    },
    {
     "data": {
      "image/png": "[encoded data removed]",
      "text/plain": [
       "<Figure size 432x288 with 1 Axes>"
      ]
     },
     "metadata": {
      "needs_background": "light"
     },
     "output_type": "display_data"
    },
    {
     "data": {
      "image/png": "[encoded data removed]",
      "text/plain": [
       "<Figure size 432x288 with 1 Axes>"
      ]
     },
     "metadata": {
      "needs_background": "light"
     },
     "output_type": "display_data"
    },
    {
     "data": {
      "image/png": "[encoded data removed]",
      "text/plain": [
       "<Figure size 432x288 with 1 Axes>"
      ]
     },
     "metadata": {
      "needs_background": "light"
     },
     "output_type": "display_data"
    },
    {
     "data": {
      "image/png": "[encoded data removed]",
      "text/plain": [
       "<Figure size 432x288 with 1 Axes>"
      ]
     },
     "metadata": {
      "needs_background": "light"
     },
     "output_type": "display_data"
    },
    {
     "data": {
      "image/png": "[encoded data removed]",
      "text/plain": [
       "<Figure size 432x288 with 1 Axes>"
      ]
     },
     "metadata": {
      "needs_background": "light"
     },
     "output_type": "display_data"
    },
    {
     "data": {
      "image/png": "[encoded data removed]",
      "text/plain": [
       "<Figure size 432x288 with 1 Axes>"
      ]
     },
     "metadata": {
      "needs_background": "light"
     },
     "output_type": "display_data"
    }
   ],
   "source": [
    "for i in df.columns:\n",
    "    if(i != \"diagnosis\"):\n",
    "        plt.figure()\n",
    "        sns.boxplot(df[\"diagnosis\"],df[i])\n",
    "        "
   ]
  },
  {
   "cell_type": "code",
   "execution_count": 13,
   "id": "70fb453f",
   "metadata": {
    "scrolled": false
   },
   "outputs": [
    {
     "name": "stderr",
     "output_type": "stream",
     "text": [
      "F:\\anaconda3\\lib\\site-packages\\seaborn\\_decorators.py:36: FutureWarning: Pass the following variables as keyword args: x, y. From version 0.12, the only valid positional argument will be `data`, and passing other arguments without an explicit keyword will result in an error or misinterpretation.\n",
      "  warnings.warn(\n",
      "F:\\anaconda3\\lib\\site-packages\\seaborn\\_decorators.py:36: FutureWarning: Pass the following variables as keyword args: x, y. From version 0.12, the only valid positional argument will be `data`, and passing other arguments without an explicit keyword will result in an error or misinterpretation.\n",
      "  warnings.warn(\n",
      "F:\\anaconda3\\lib\\site-packages\\seaborn\\_decorators.py:36: FutureWarning: Pass the following variables as keyword args: x, y. From version 0.12, the only valid positional argument will be `data`, and passing other arguments without an explicit keyword will result in an error or misinterpretation.\n",
      "  warnings.warn(\n",
      "F:\\anaconda3\\lib\\site-packages\\seaborn\\_decorators.py:36: FutureWarning: Pass the following variables as keyword args: x, y. From version 0.12, the only valid positional argument will be `data`, and passing other arguments without an explicit keyword will result in an error or misinterpretation.\n",
      "  warnings.warn(\n",
      "F:\\anaconda3\\lib\\site-packages\\seaborn\\_decorators.py:36: FutureWarning: Pass the following variables as keyword args: x, y. From version 0.12, the only valid positional argument will be `data`, and passing other arguments without an explicit keyword will result in an error or misinterpretation.\n",
      "  warnings.warn(\n",
      "F:\\anaconda3\\lib\\site-packages\\seaborn\\_decorators.py:36: FutureWarning: Pass the following variables as keyword args: x, y. From version 0.12, the only valid positional argument will be `data`, and passing other arguments without an explicit keyword will result in an error or misinterpretation.\n",
      "  warnings.warn(\n",
      "F:\\anaconda3\\lib\\site-packages\\seaborn\\_decorators.py:36: FutureWarning: Pass the following variables as keyword args: x, y. From version 0.12, the only valid positional argument will be `data`, and passing other arguments without an explicit keyword will result in an error or misinterpretation.\n",
      "  warnings.warn(\n",
      "F:\\anaconda3\\lib\\site-packages\\seaborn\\_decorators.py:36: FutureWarning: Pass the following variables as keyword args: x, y. From version 0.12, the only valid positional argument will be `data`, and passing other arguments without an explicit keyword will result in an error or misinterpretation.\n",
      "  warnings.warn(\n",
      "F:\\anaconda3\\lib\\site-packages\\seaborn\\_decorators.py:36: FutureWarning: Pass the following variables as keyword args: x, y. From version 0.12, the only valid positional argument will be `data`, and passing other arguments without an explicit keyword will result in an error or misinterpretation.\n",
      "  warnings.warn(\n",
      "F:\\anaconda3\\lib\\site-packages\\seaborn\\_decorators.py:36: FutureWarning: Pass the following variables as keyword args: x, y. From version 0.12, the only valid positional argument will be `data`, and passing other arguments without an explicit keyword will result in an error or misinterpretation.\n",
      "  warnings.warn(\n",
      "F:\\anaconda3\\lib\\site-packages\\seaborn\\_decorators.py:36: FutureWarning: Pass the following variables as keyword args: x, y. From version 0.12, the only valid positional argument will be `data`, and passing other arguments without an explicit keyword will result in an error or misinterpretation.\n",
      "  warnings.warn(\n",
      "F:\\anaconda3\\lib\\site-packages\\seaborn\\_decorators.py:36: FutureWarning: Pass the following variables as keyword args: x, y. From version 0.12, the only valid positional argument will be `data`, and passing other arguments without an explicit keyword will result in an error or misinterpretation.\n",
      "  warnings.warn(\n",
      "F:\\anaconda3\\lib\\site-packages\\seaborn\\_decorators.py:36: FutureWarning: Pass the following variables as keyword args: x, y. From version 0.12, the only valid positional argument will be `data`, and passing other arguments without an explicit keyword will result in an error or misinterpretation.\n",
      "  warnings.warn(\n",
      "F:\\anaconda3\\lib\\site-packages\\seaborn\\_decorators.py:36: FutureWarning: Pass the following variables as keyword args: x, y. From version 0.12, the only valid positional argument will be `data`, and passing other arguments without an explicit keyword will result in an error or misinterpretation.\n",
      "  warnings.warn(\n",
      "F:\\anaconda3\\lib\\site-packages\\seaborn\\_decorators.py:36: FutureWarning: Pass the following variables as keyword args: x, y. From version 0.12, the only valid positional argument will be `data`, and passing other arguments without an explicit keyword will result in an error or misinterpretation.\n",
      "  warnings.warn(\n",
      "F:\\anaconda3\\lib\\site-packages\\seaborn\\_decorators.py:36: FutureWarning: Pass the following variables as keyword args: x, y. From version 0.12, the only valid positional argument will be `data`, and passing other arguments without an explicit keyword will result in an error or misinterpretation.\n",
      "  warnings.warn(\n",
      "F:\\anaconda3\\lib\\site-packages\\seaborn\\_decorators.py:36: FutureWarning: Pass the following variables as keyword args: x, y. From version 0.12, the only valid positional argument will be `data`, and passing other arguments without an explicit keyword will result in an error or misinterpretation.\n",
      "  warnings.warn(\n",
      "F:\\anaconda3\\lib\\site-packages\\seaborn\\_decorators.py:36: FutureWarning: Pass the following variables as keyword args: x, y. From version 0.12, the only valid positional argument will be `data`, and passing other arguments without an explicit keyword will result in an error or misinterpretation.\n",
      "  warnings.warn(\n",
      "F:\\anaconda3\\lib\\site-packages\\seaborn\\_decorators.py:36: FutureWarning: Pass the following variables as keyword args: x, y. From version 0.12, the only valid positional argument will be `data`, and passing other arguments without an explicit keyword will result in an error or misinterpretation.\n",
      "  warnings.warn(\n",
      "F:\\anaconda3\\lib\\site-packages\\seaborn\\_decorators.py:36: FutureWarning: Pass the following variables as keyword args: x, y. From version 0.12, the only valid positional argument will be `data`, and passing other arguments without an explicit keyword will result in an error or misinterpretation.\n",
      "  warnings.warn(\n",
      "C:\\Users\\Preethi\\AppData\\Local\\Temp\\ipykernel_8656\\2303922247.py:3: RuntimeWarning: More than 20 figures have been opened. Figures created through the pyplot interface (`matplotlib.pyplot.figure`) are retained until explicitly closed and may consume too much memory. (To control this warning, see the rcParam `figure.max_open_warning`).\n",
      "  plt.figure()\n",
      "F:\\anaconda3\\lib\\site-packages\\seaborn\\_decorators.py:36: FutureWarning: Pass the following variables as keyword args: x, y. From version 0.12, the only valid positional argument will be `data`, and passing other arguments without an explicit keyword will result in an error or misinterpretation.\n",
      "  warnings.warn(\n",
      "F:\\anaconda3\\lib\\site-packages\\seaborn\\_decorators.py:36: FutureWarning: Pass the following variables as keyword args: x, y. From version 0.12, the only valid positional argument will be `data`, and passing other arguments without an explicit keyword will result in an error or misinterpretation.\n",
      "  warnings.warn(\n",
      "F:\\anaconda3\\lib\\site-packages\\seaborn\\_decorators.py:36: FutureWarning: Pass the following variables as keyword args: x, y. From version 0.12, the only valid positional argument will be `data`, and passing other arguments without an explicit keyword will result in an error or misinterpretation.\n",
      "  warnings.warn(\n",
      "F:\\anaconda3\\lib\\site-packages\\seaborn\\_decorators.py:36: FutureWarning: Pass the following variables as keyword args: x, y. From version 0.12, the only valid positional argument will be `data`, and passing other arguments without an explicit keyword will result in an error or misinterpretation.\n",
      "  warnings.warn(\n",
      "F:\\anaconda3\\lib\\site-packages\\seaborn\\_decorators.py:36: FutureWarning: Pass the following variables as keyword args: x, y. From version 0.12, the only valid positional argument will be `data`, and passing other arguments without an explicit keyword will result in an error or misinterpretation.\n",
      "  warnings.warn(\n",
      "F:\\anaconda3\\lib\\site-packages\\seaborn\\_decorators.py:36: FutureWarning: Pass the following variables as keyword args: x, y. From version 0.12, the only valid positional argument will be `data`, and passing other arguments without an explicit keyword will result in an error or misinterpretation.\n",
      "  warnings.warn(\n",
      "F:\\anaconda3\\lib\\site-packages\\seaborn\\_decorators.py:36: FutureWarning: Pass the following variables as keyword args: x, y. From version 0.12, the only valid positional argument will be `data`, and passing other arguments without an explicit keyword will result in an error or misinterpretation.\n",
      "  warnings.warn(\n",
      "F:\\anaconda3\\lib\\site-packages\\seaborn\\_decorators.py:36: FutureWarning: Pass the following variables as keyword args: x, y. From version 0.12, the only valid positional argument will be `data`, and passing other arguments without an explicit keyword will result in an error or misinterpretation.\n",
      "  warnings.warn(\n",
      "F:\\anaconda3\\lib\\site-packages\\seaborn\\_decorators.py:36: FutureWarning: Pass the following variables as keyword args: x, y. From version 0.12, the only valid positional argument will be `data`, and passing other arguments without an explicit keyword will result in an error or misinterpretation.\n",
      "  warnings.warn(\n",
      "F:\\anaconda3\\lib\\site-packages\\seaborn\\_decorators.py:36: FutureWarning: Pass the following variables as keyword args: x, y. From version 0.12, the only valid positional argument will be `data`, and passing other arguments without an explicit keyword will result in an error or misinterpretation.\n",
      "  warnings.warn(\n",
      "F:\\anaconda3\\lib\\site-packages\\seaborn\\_decorators.py:36: FutureWarning: Pass the following variables as keyword args: x, y. From version 0.12, the only valid positional argument will be `data`, and passing other arguments without an explicit keyword will result in an error or misinterpretation.\n",
      "  warnings.warn(\n",
      "F:\\anaconda3\\lib\\site-packages\\seaborn\\_decorators.py:36: FutureWarning: Pass the following variables as keyword args: x, y. From version 0.12, the only valid positional argument will be `data`, and passing other arguments without an explicit keyword will result in an error or misinterpretation.\n",
      "  warnings.warn(\n",
      "F:\\anaconda3\\lib\\site-packages\\seaborn\\_decorators.py:36: FutureWarning: Pass the following variables as keyword args: x, y. From version 0.12, the only valid positional argument will be `data`, and passing other arguments without an explicit keyword will result in an error or misinterpretation.\n",
      "  warnings.warn(\n"
     ]
    },
    {
     "data": {
      "image/png": "[encoded data removed]",
      "text/plain": [
       "<Figure size 432x288 with 1 Axes>"
      ]
     },
     "metadata": {
      "needs_background": "light"
     },
     "output_type": "display_data"
    },
    {
     "data": {
      "image/png": "[encoded data removed]",
      "text/plain": [
       "<Figure size 432x288 with 1 Axes>"
      ]
     },
     "metadata": {
      "needs_background": "light"
     },
     "output_type": "display_data"
    },
    {
     "data": {
      "image/png": "[encoded data removed]",
      "text/plain": [
       "<Figure size 432x288 with 1 Axes>"
      ]
     },
     "metadata": {
      "needs_background": "light"
     },
     "output_type": "display_data"
    },
    {
     "data": {
      "image/png": "[encoded data removed]",
      "text/plain": [
       "<Figure size 432x288 with 1 Axes>"
      ]
     },
     "metadata": {
      "needs_background": "light"
     },
     "output_type": "display_data"
    },
    {
     "data": {
      "image/png": "[encoded data removed]",
      "text/plain": [
       "<Figure size 432x288 with 1 Axes>"
      ]
     },
     "metadata": {
      "needs_background": "light"
     },
     "output_type": "display_data"
    },
    {
     "data": {
      "image/png": "[encoded data removed]",
      "text/plain": [
       "<Figure size 432x288 with 1 Axes>"
      ]
     },
     "metadata": {
      "needs_background": "light"
     },
     "output_type": "display_data"
    },
    {
     "data": {
      "image/png": "[encoded data removed]",
      "text/plain": [
       "<Figure size 432x288 with 1 Axes>"
      ]
     },
     "metadata": {
      "needs_background": "light"
     },
     "output_type": "display_data"
    },
    {
     "data": {
      "image/png": "[encoded data removed]",
      "text/plain": [
       "<Figure size 432x288 with 1 Axes>"
      ]
     },
     "metadata": {
      "needs_background": "light"
     },
     "output_type": "display_data"
    },
    {
     "data": {
      "image/png": "[encoded data removed]",
      "text/plain": [
       "<Figure size 432x288 with 1 Axes>"
      ]
     },
     "metadata": {
      "needs_background": "light"
     },
     "output_type": "display_data"
    },
    {
     "data": {
      "image/png": "[encoded data removed]",
      "text/plain": [
       "<Figure size 432x288 with 1 Axes>"
      ]
     },
     "metadata": {
      "needs_background": "light"
     },
     "output_type": "display_data"
    },
    {
     "data": {
      "image/png": "[encoded data removed]",
      "text/plain": [
       "<Figure size 432x288 with 1 Axes>"
      ]
     },
     "metadata": {
      "needs_background": "light"
     },
     "output_type": "display_data"
    },
    {
     "data": {
      "image/png": "[encoded data removed]",
      "text/plain": [
       "<Figure size 432x288 with 1 Axes>"
      ]
     },
     "metadata": {
      "needs_background": "light"
     },
     "output_type": "display_data"
    },
    {
     "data": {
      "image/png": "[encoded data removed]",
      "text/plain": [
       "<Figure size 432x288 with 1 Axes>"
      ]
     },
     "metadata": {
      "needs_background": "light"
     },
     "output_type": "display_data"
    },
    {
     "data": {
      "image/png": "[encoded data removed]",
      "text/plain": [
       "<Figure size 432x288 with 1 Axes>"
      ]
     },
     "metadata": {
      "needs_background": "light"
     },
     "output_type": "display_data"
    },
    {
     "data": {
      "image/png": "[encoded data removed]",
      "text/plain": [
       "<Figure size 432x288 with 1 Axes>"
      ]
     },
     "metadata": {
      "needs_background": "light"
     },
     "output_type": "display_data"
    },
    {
     "data": {
      "image/png": "[encoded data removed]",
      "text/plain": [
       "<Figure size 432x288 with 1 Axes>"
      ]
     },
     "metadata": {
      "needs_background": "light"
     },
     "output_type": "display_data"
    },
    {
     "data": {
      "image/png": "[encoded data removed]",
      "text/plain": [
       "<Figure size 432x288 with 1 Axes>"
      ]
     },
     "metadata": {
      "needs_background": "light"
     },
     "output_type": "display_data"
    },
    {
     "data": {
      "image/png": "[encoded data removed]",
      "text/plain": [
       "<Figure size 432x288 with 1 Axes>"
      ]
     },
     "metadata": {
      "needs_background": "light"
     },
     "output_type": "display_data"
    },
    {
     "data": {
      "image/png": "[encoded data removed]",
      "text/plain": [
       "<Figure size 432x288 with 1 Axes>"
      ]
     },
     "metadata": {
      "needs_background": "light"
     },
     "output_type": "display_data"
    },
    {
     "data": {
      "image/png": "[encoded data removed]",
      "text/plain": [
       "<Figure size 432x288 with 1 Axes>"
      ]
     },
     "metadata": {
      "needs_background": "light"
     },
     "output_type": "display_data"
    },
    {
     "data": {
      "image/png": "[encoded data removed]",
      "text/plain": [
       "<Figure size 432x288 with 1 Axes>"
      ]
     },
     "metadata": {
      "needs_background": "light"
     },
     "output_type": "display_data"
    },
    {
     "data": {
      "image/png": "[encoded data removed]",
      "text/plain": [
       "<Figure size 432x288 with 1 Axes>"
      ]
     },
     "metadata": {
      "needs_background": "light"
     },
     "output_type": "display_data"
    },
    {
     "data": {
      "image/png": "[encoded data removed]",
      "text/plain": [
       "<Figure size 432x288 with 1 Axes>"
      ]
     },
     "metadata": {
      "needs_background": "light"
     },
     "output_type": "display_data"
    },
    {
     "data": {
      "image/png": "[encoded data removed]",
      "text/plain": [
       "<Figure size 432x288 with 1 Axes>"
      ]
     },
     "metadata": {
      "needs_background": "light"
     },
     "output_type": "display_data"
    },
    {
     "data": {
      "image/png": "[encoded data removed]",
      "text/plain": [
       "<Figure size 432x288 with 1 Axes>"
      ]
     },
     "metadata": {
      "needs_background": "light"
     },
     "output_type": "display_data"
    },
    {
     "data": {
      "image/png": "[encoded data removed]",
      "text/plain": [
       "<Figure size 432x288 with 1 Axes>"
      ]
     },
     "metadata": {
      "needs_background": "light"
     },
     "output_type": "display_data"
    },
    {
     "data": {
      "image/png": "[encoded data removed]",
      "text/plain": [
       "<Figure size 432x288 with 1 Axes>"
      ]
     },
     "metadata": {
      "needs_background": "light"
     },
     "output_type": "display_data"
    },
    {
     "data": {
      "image/png": "[encoded data removed]",
      "text/plain": [
       "<Figure size 432x288 with 1 Axes>"
      ]
     },
     "metadata": {
      "needs_background": "light"
     },
     "output_type": "display_data"
    },
    {
     "data": {
      "image/png": "[encoded data removed]",
      "text/plain": [
       "<Figure size 432x288 with 1 Axes>"
      ]
     },
     "metadata": {
      "needs_background": "light"
     },
     "output_type": "display_data"
    },
    {
     "data": {
      "image/png": "[encoded data removed]",
      "text/plain": [
       "<Figure size 432x288 with 1 Axes>"
      ]
     },
     "metadata": {
      "needs_background": "light"
     },
     "output_type": "display_data"
    },
    {
     "data": {
      "image/png": "[encoded data removed]",
      "text/plain": [
       "<Figure size 432x288 with 1 Axes>"
      ]
     },
     "metadata": {
      "needs_background": "light"
     },
     "output_type": "display_data"
    },
    {
     "data": {
      "image/png": "[encoded data removed]",
      "text/plain": [
       "<Figure size 432x288 with 1 Axes>"
      ]
     },
     "metadata": {
      "needs_background": "light"
     },
     "output_type": "display_data"
    },
    {
     "data": {
      "image/png": "[encoded data removed]",
      "text/plain": [
       "<Figure size 432x288 with 1 Axes>"
      ]
     },
     "metadata": {
      "needs_background": "light"
     },
     "output_type": "display_data"
    }
   ],
   "source": [
    "for i in df.columns:\n",
    "    if(i != \"diagnosis\"):\n",
    "        plt.figure()\n",
    "        sns.barplot(df[\"diagnosis\"],df[i])\n",
    "        "
   ]
  },
  {
   "cell_type": "markdown",
   "id": "5a113f07",
   "metadata": {},
   "source": [
    "## Outlier Detection"
   ]
  },
  {
   "cell_type": "markdown",
   "id": "7ba91035",
   "metadata": {},
   "source": [
    "* __From the box plots above we observe certain outliers but they are the values representing some important information and are in the range of corresponding variables hence we keep the values as it is__"
   ]
  },
  {
   "cell_type": "code",
   "execution_count": 35,
   "id": "304657fe",
   "metadata": {},
   "outputs": [
    {
     "data": {
      "text/plain": [
       "Index(['diagnosis', 'radius_mean', 'texture_mean', 'perimeter_mean',\n",
       "       'area_mean', 'smoothness_mean', 'compactness_mean', 'concavity_mean',\n",
       "       'concave points_mean', 'symmetry_mean', 'fractal_dimension_mean',\n",
       "       'radius_se', 'texture_se', 'perimeter_se', 'area_se', 'smoothness_se',\n",
       "       'compactness_se', 'concavity_se', 'concave points_se', 'symmetry_se',\n",
       "       'fractal_dimension_se', 'radius_worst', 'texture_worst',\n",
       "       'perimeter_worst', 'area_worst', 'smoothness_worst',\n",
       "       'compactness_worst', 'concavity_worst', 'concave points_worst',\n",
       "       'symmetry_worst', 'fractal_dimension_worst', 'smoking'],\n",
       "      dtype='object')"
      ]
     },
     "execution_count": 35,
     "metadata": {},
     "output_type": "execute_result"
    }
   ],
   "source": [
    "df.columns"
   ]
  },
  {
   "cell_type": "markdown",
   "id": "4a7c9e75",
   "metadata": {},
   "source": [
    "## Train Test Split"
   ]
  },
  {
   "cell_type": "code",
   "execution_count": 36,
   "id": "1facd017",
   "metadata": {},
   "outputs": [],
   "source": [
    "x_data = df.drop(\"diagnosis\",axis=1)"
   ]
  },
  {
   "cell_type": "code",
   "execution_count": 37,
   "id": "31f26ae6",
   "metadata": {},
   "outputs": [],
   "source": [
    "x_data = df.drop(\"smoking\",axis=1)"
   ]
  },
  {
   "cell_type": "code",
   "execution_count": 38,
   "id": "05145781",
   "metadata": {
    "scrolled": true
   },
   "outputs": [
    {
     "data": {
      "text/html": [
       "<div>\n",
       "<style scoped>\n",
       "    .dataframe tbody tr th:only-of-type {\n",
       "        vertical-align: middle;\n",
       "    }\n",
       "\n",
       "    .dataframe tbody tr th {\n",
       "        vertical-align: top;\n",
       "    }\n",
       "\n",
       "    .dataframe thead th {\n",
       "        text-align: right;\n",
       "    }\n",
       "</style>\n",
       "<table border=\"1\" class=\"dataframe\">\n",
       "  <thead>\n",
       "    <tr style=\"text-align: right;\">\n",
       "      <th></th>\n",
       "      <th>diagnosis</th>\n",
       "      <th>radius_mean</th>\n",
       "      <th>texture_mean</th>\n",
       "      <th>perimeter_mean</th>\n",
       "      <th>area_mean</th>\n",
       "      <th>smoothness_mean</th>\n",
       "      <th>compactness_mean</th>\n",
       "      <th>concavity_mean</th>\n",
       "      <th>concave points_mean</th>\n",
       "      <th>symmetry_mean</th>\n",
       "      <th>...</th>\n",
       "      <th>radius_worst</th>\n",
       "      <th>texture_worst</th>\n",
       "      <th>perimeter_worst</th>\n",
       "      <th>area_worst</th>\n",
       "      <th>smoothness_worst</th>\n",
       "      <th>compactness_worst</th>\n",
       "      <th>concavity_worst</th>\n",
       "      <th>concave points_worst</th>\n",
       "      <th>symmetry_worst</th>\n",
       "      <th>fractal_dimension_worst</th>\n",
       "    </tr>\n",
       "  </thead>\n",
       "  <tbody>\n",
       "    <tr>\n",
       "      <th>0</th>\n",
       "      <td>1</td>\n",
       "      <td>17.99</td>\n",
       "      <td>10.38</td>\n",
       "      <td>122.80</td>\n",
       "      <td>1001.0</td>\n",
       "      <td>0.11840</td>\n",
       "      <td>0.27760</td>\n",
       "      <td>0.3001</td>\n",
       "      <td>0.14710</td>\n",
       "      <td>0.2419</td>\n",
       "      <td>...</td>\n",
       "      <td>25.38</td>\n",
       "      <td>17.33</td>\n",
       "      <td>184.60</td>\n",
       "      <td>2019.0</td>\n",
       "      <td>0.1622</td>\n",
       "      <td>0.6656</td>\n",
       "      <td>0.7119</td>\n",
       "      <td>0.2654</td>\n",
       "      <td>0.4601</td>\n",
       "      <td>0.11890</td>\n",
       "    </tr>\n",
       "    <tr>\n",
       "      <th>1</th>\n",
       "      <td>1</td>\n",
       "      <td>20.57</td>\n",
       "      <td>17.77</td>\n",
       "      <td>132.90</td>\n",
       "      <td>1326.0</td>\n",
       "      <td>0.08474</td>\n",
       "      <td>0.07864</td>\n",
       "      <td>0.0869</td>\n",
       "      <td>0.07017</td>\n",
       "      <td>0.1812</td>\n",
       "      <td>...</td>\n",
       "      <td>24.99</td>\n",
       "      <td>23.41</td>\n",
       "      <td>158.80</td>\n",
       "      <td>1956.0</td>\n",
       "      <td>0.1238</td>\n",
       "      <td>0.1866</td>\n",
       "      <td>0.2416</td>\n",
       "      <td>0.1860</td>\n",
       "      <td>0.2750</td>\n",
       "      <td>0.08902</td>\n",
       "    </tr>\n",
       "    <tr>\n",
       "      <th>2</th>\n",
       "      <td>1</td>\n",
       "      <td>19.69</td>\n",
       "      <td>21.25</td>\n",
       "      <td>130.00</td>\n",
       "      <td>1203.0</td>\n",
       "      <td>0.10960</td>\n",
       "      <td>0.15990</td>\n",
       "      <td>0.1974</td>\n",
       "      <td>0.12790</td>\n",
       "      <td>0.2069</td>\n",
       "      <td>...</td>\n",
       "      <td>23.57</td>\n",
       "      <td>25.53</td>\n",
       "      <td>152.50</td>\n",
       "      <td>1709.0</td>\n",
       "      <td>0.1444</td>\n",
       "      <td>0.4245</td>\n",
       "      <td>0.4504</td>\n",
       "      <td>0.2430</td>\n",
       "      <td>0.3613</td>\n",
       "      <td>0.08758</td>\n",
       "    </tr>\n",
       "    <tr>\n",
       "      <th>3</th>\n",
       "      <td>1</td>\n",
       "      <td>11.42</td>\n",
       "      <td>20.38</td>\n",
       "      <td>77.58</td>\n",
       "      <td>386.1</td>\n",
       "      <td>0.14250</td>\n",
       "      <td>0.28390</td>\n",
       "      <td>0.2414</td>\n",
       "      <td>0.10520</td>\n",
       "      <td>0.2597</td>\n",
       "      <td>...</td>\n",
       "      <td>14.91</td>\n",
       "      <td>26.50</td>\n",
       "      <td>98.87</td>\n",
       "      <td>567.7</td>\n",
       "      <td>0.2098</td>\n",
       "      <td>0.8663</td>\n",
       "      <td>0.6869</td>\n",
       "      <td>0.2575</td>\n",
       "      <td>0.6638</td>\n",
       "      <td>0.17300</td>\n",
       "    </tr>\n",
       "    <tr>\n",
       "      <th>4</th>\n",
       "      <td>1</td>\n",
       "      <td>20.29</td>\n",
       "      <td>14.34</td>\n",
       "      <td>135.10</td>\n",
       "      <td>1297.0</td>\n",
       "      <td>0.10030</td>\n",
       "      <td>0.13280</td>\n",
       "      <td>0.1980</td>\n",
       "      <td>0.10430</td>\n",
       "      <td>0.1809</td>\n",
       "      <td>...</td>\n",
       "      <td>22.54</td>\n",
       "      <td>16.67</td>\n",
       "      <td>152.20</td>\n",
       "      <td>1575.0</td>\n",
       "      <td>0.1374</td>\n",
       "      <td>0.2050</td>\n",
       "      <td>0.4000</td>\n",
       "      <td>0.1625</td>\n",
       "      <td>0.2364</td>\n",
       "      <td>0.07678</td>\n",
       "    </tr>\n",
       "    <tr>\n",
       "      <th>...</th>\n",
       "      <td>...</td>\n",
       "      <td>...</td>\n",
       "      <td>...</td>\n",
       "      <td>...</td>\n",
       "      <td>...</td>\n",
       "      <td>...</td>\n",
       "      <td>...</td>\n",
       "      <td>...</td>\n",
       "      <td>...</td>\n",
       "      <td>...</td>\n",
       "      <td>...</td>\n",
       "      <td>...</td>\n",
       "      <td>...</td>\n",
       "      <td>...</td>\n",
       "      <td>...</td>\n",
       "      <td>...</td>\n",
       "      <td>...</td>\n",
       "      <td>...</td>\n",
       "      <td>...</td>\n",
       "      <td>...</td>\n",
       "      <td>...</td>\n",
       "    </tr>\n",
       "    <tr>\n",
       "      <th>1173</th>\n",
       "      <td>1</td>\n",
       "      <td>626.60</td>\n",
       "      <td>635.33</td>\n",
       "      <td>746.10</td>\n",
       "      <td>1871.0</td>\n",
       "      <td>606.11780</td>\n",
       "      <td>606.27700</td>\n",
       "      <td>606.3514</td>\n",
       "      <td>606.15200</td>\n",
       "      <td>606.2397</td>\n",
       "      <td>...</td>\n",
       "      <td>631.74</td>\n",
       "      <td>645.42</td>\n",
       "      <td>790.60</td>\n",
       "      <td>2427.0</td>\n",
       "      <td>606.1650</td>\n",
       "      <td>606.8681</td>\n",
       "      <td>606.9387</td>\n",
       "      <td>606.2650</td>\n",
       "      <td>606.4087</td>\n",
       "      <td>606.12400</td>\n",
       "    </tr>\n",
       "    <tr>\n",
       "      <th>1174</th>\n",
       "      <td>1</td>\n",
       "      <td>627.60</td>\n",
       "      <td>636.33</td>\n",
       "      <td>747.10</td>\n",
       "      <td>1872.0</td>\n",
       "      <td>607.11780</td>\n",
       "      <td>607.27700</td>\n",
       "      <td>607.3514</td>\n",
       "      <td>607.15200</td>\n",
       "      <td>607.2397</td>\n",
       "      <td>...</td>\n",
       "      <td>632.74</td>\n",
       "      <td>646.42</td>\n",
       "      <td>791.60</td>\n",
       "      <td>2428.0</td>\n",
       "      <td>607.1650</td>\n",
       "      <td>607.8681</td>\n",
       "      <td>607.9387</td>\n",
       "      <td>607.2650</td>\n",
       "      <td>607.4087</td>\n",
       "      <td>607.12400</td>\n",
       "    </tr>\n",
       "    <tr>\n",
       "      <th>1175</th>\n",
       "      <td>1</td>\n",
       "      <td>628.60</td>\n",
       "      <td>637.33</td>\n",
       "      <td>748.10</td>\n",
       "      <td>1873.0</td>\n",
       "      <td>608.11780</td>\n",
       "      <td>608.27700</td>\n",
       "      <td>608.3514</td>\n",
       "      <td>608.15200</td>\n",
       "      <td>608.2397</td>\n",
       "      <td>...</td>\n",
       "      <td>633.74</td>\n",
       "      <td>647.42</td>\n",
       "      <td>792.60</td>\n",
       "      <td>2429.0</td>\n",
       "      <td>608.1650</td>\n",
       "      <td>608.8681</td>\n",
       "      <td>608.9387</td>\n",
       "      <td>608.2650</td>\n",
       "      <td>608.4087</td>\n",
       "      <td>608.12400</td>\n",
       "    </tr>\n",
       "    <tr>\n",
       "      <th>1176</th>\n",
       "      <td>1</td>\n",
       "      <td>629.60</td>\n",
       "      <td>638.33</td>\n",
       "      <td>749.10</td>\n",
       "      <td>1874.0</td>\n",
       "      <td>609.11780</td>\n",
       "      <td>609.27700</td>\n",
       "      <td>609.3514</td>\n",
       "      <td>609.15200</td>\n",
       "      <td>609.2397</td>\n",
       "      <td>...</td>\n",
       "      <td>634.74</td>\n",
       "      <td>648.42</td>\n",
       "      <td>793.60</td>\n",
       "      <td>2430.0</td>\n",
       "      <td>609.1650</td>\n",
       "      <td>609.8681</td>\n",
       "      <td>609.9387</td>\n",
       "      <td>609.2650</td>\n",
       "      <td>609.4087</td>\n",
       "      <td>609.12400</td>\n",
       "    </tr>\n",
       "    <tr>\n",
       "      <th>1177</th>\n",
       "      <td>1</td>\n",
       "      <td>630.60</td>\n",
       "      <td>639.33</td>\n",
       "      <td>750.10</td>\n",
       "      <td>1875.0</td>\n",
       "      <td>610.11780</td>\n",
       "      <td>610.27700</td>\n",
       "      <td>610.3514</td>\n",
       "      <td>610.15200</td>\n",
       "      <td>610.2397</td>\n",
       "      <td>...</td>\n",
       "      <td>635.74</td>\n",
       "      <td>649.42</td>\n",
       "      <td>794.60</td>\n",
       "      <td>2431.0</td>\n",
       "      <td>610.1650</td>\n",
       "      <td>610.8681</td>\n",
       "      <td>610.9387</td>\n",
       "      <td>610.2650</td>\n",
       "      <td>610.4087</td>\n",
       "      <td>610.12400</td>\n",
       "    </tr>\n",
       "  </tbody>\n",
       "</table>\n",
       "<p>1178 rows × 31 columns</p>\n",
       "</div>"
      ],
      "text/plain": [
       "      diagnosis  radius_mean  texture_mean  perimeter_mean  area_mean  \\\n",
       "0             1        17.99         10.38          122.80     1001.0   \n",
       "1             1        20.57         17.77          132.90     1326.0   \n",
       "2             1        19.69         21.25          130.00     1203.0   \n",
       "3             1        11.42         20.38           77.58      386.1   \n",
       "4             1        20.29         14.34          135.10     1297.0   \n",
       "...         ...          ...           ...             ...        ...   \n",
       "1173          1       626.60        635.33          746.10     1871.0   \n",
       "1174          1       627.60        636.33          747.10     1872.0   \n",
       "1175          1       628.60        637.33          748.10     1873.0   \n",
       "1176          1       629.60        638.33          749.10     1874.0   \n",
       "1177          1       630.60        639.33          750.10     1875.0   \n",
       "\n",
       "      smoothness_mean  compactness_mean  concavity_mean  concave points_mean  \\\n",
       "0             0.11840           0.27760          0.3001              0.14710   \n",
       "1             0.08474           0.07864          0.0869              0.07017   \n",
       "2             0.10960           0.15990          0.1974              0.12790   \n",
       "3             0.14250           0.28390          0.2414              0.10520   \n",
       "4             0.10030           0.13280          0.1980              0.10430   \n",
       "...               ...               ...             ...                  ...   \n",
       "1173        606.11780         606.27700        606.3514            606.15200   \n",
       "1174        607.11780         607.27700        607.3514            607.15200   \n",
       "1175        608.11780         608.27700        608.3514            608.15200   \n",
       "1176        609.11780         609.27700        609.3514            609.15200   \n",
       "1177        610.11780         610.27700        610.3514            610.15200   \n",
       "\n",
       "      symmetry_mean  ...  radius_worst  texture_worst  perimeter_worst  \\\n",
       "0            0.2419  ...         25.38          17.33           184.60   \n",
       "1            0.1812  ...         24.99          23.41           158.80   \n",
       "2            0.2069  ...         23.57          25.53           152.50   \n",
       "3            0.2597  ...         14.91          26.50            98.87   \n",
       "4            0.1809  ...         22.54          16.67           152.20   \n",
       "...             ...  ...           ...            ...              ...   \n",
       "1173       606.2397  ...        631.74         645.42           790.60   \n",
       "1174       607.2397  ...        632.74         646.42           791.60   \n",
       "1175       608.2397  ...        633.74         647.42           792.60   \n",
       "1176       609.2397  ...        634.74         648.42           793.60   \n",
       "1177       610.2397  ...        635.74         649.42           794.60   \n",
       "\n",
       "      area_worst  smoothness_worst  compactness_worst  concavity_worst  \\\n",
       "0         2019.0            0.1622             0.6656           0.7119   \n",
       "1         1956.0            0.1238             0.1866           0.2416   \n",
       "2         1709.0            0.1444             0.4245           0.4504   \n",
       "3          567.7            0.2098             0.8663           0.6869   \n",
       "4         1575.0            0.1374             0.2050           0.4000   \n",
       "...          ...               ...                ...              ...   \n",
       "1173      2427.0          606.1650           606.8681         606.9387   \n",
       "1174      2428.0          607.1650           607.8681         607.9387   \n",
       "1175      2429.0          608.1650           608.8681         608.9387   \n",
       "1176      2430.0          609.1650           609.8681         609.9387   \n",
       "1177      2431.0          610.1650           610.8681         610.9387   \n",
       "\n",
       "      concave points_worst  symmetry_worst  fractal_dimension_worst  \n",
       "0                   0.2654          0.4601                  0.11890  \n",
       "1                   0.1860          0.2750                  0.08902  \n",
       "2                   0.2430          0.3613                  0.08758  \n",
       "3                   0.2575          0.6638                  0.17300  \n",
       "4                   0.1625          0.2364                  0.07678  \n",
       "...                    ...             ...                      ...  \n",
       "1173              606.2650        606.4087                606.12400  \n",
       "1174              607.2650        607.4087                607.12400  \n",
       "1175              608.2650        608.4087                608.12400  \n",
       "1176              609.2650        609.4087                609.12400  \n",
       "1177              610.2650        610.4087                610.12400  \n",
       "\n",
       "[1178 rows x 31 columns]"
      ]
     },
     "execution_count": 38,
     "metadata": {},
     "output_type": "execute_result"
    }
   ],
   "source": [
    "x_data"
   ]
  },
  {
   "cell_type": "code",
   "execution_count": 39,
   "id": "ec9a28d8",
   "metadata": {},
   "outputs": [
    {
     "data": {
      "text/plain": [
       "0       1\n",
       "1       1\n",
       "2       1\n",
       "3       1\n",
       "4       1\n",
       "       ..\n",
       "1173    1\n",
       "1174    1\n",
       "1175    1\n",
       "1176    1\n",
       "1177    1\n",
       "Name: diagnosis, Length: 1178, dtype: int64"
      ]
     },
     "execution_count": 39,
     "metadata": {},
     "output_type": "execute_result"
    }
   ],
   "source": [
    "y_data = df[\"diagnosis\"]\n",
    "y_data"
   ]
  },
  {
   "cell_type": "code",
   "execution_count": 40,
   "id": "42598485",
   "metadata": {},
   "outputs": [],
   "source": [
    "from sklearn.model_selection import train_test_split\n",
    "x_train, x_test, y_train, y_test = train_test_split(x_data, y_data, test_size=0.15,random_state=1)"
   ]
  },
  {
   "cell_type": "markdown",
   "id": "7aae2cab",
   "metadata": {},
   "source": [
    "## Fitting models"
   ]
  },
  {
   "cell_type": "code",
   "execution_count": 41,
   "id": "d6a6b275",
   "metadata": {},
   "outputs": [],
   "source": [
    "from sklearn.metrics import precision_recall_fscore_support\n",
    "from sklearn.metrics import accuracy_score\n",
    "def accuracy_measure(y_act,y_pred,label):\n",
    "    a=accuracy_score(y_act,y_pred)\n",
    "    p,r,f,_=precision_recall_fscore_support(y_act,y_pred, average='binary',pos_label=label)\n",
    "    print(\"accuracy:\",a,\"\\nPrecision:\",p,\"\\nRecall:\",r,\"\\nF-score:\",f)\n",
    "    return a,p,r,f"
   ]
  },
  {
   "cell_type": "markdown",
   "id": "cdc52979",
   "metadata": {},
   "source": [
    "### Logistic regression"
   ]
  },
  {
   "cell_type": "code",
   "execution_count": 42,
   "id": "fad2ab57",
   "metadata": {},
   "outputs": [
    {
     "name": "stderr",
     "output_type": "stream",
     "text": [
      "F:\\anaconda3\\lib\\site-packages\\sklearn\\linear_model\\_logistic.py:814: ConvergenceWarning: lbfgs failed to converge (status=1):\n",
      "STOP: TOTAL NO. of ITERATIONS REACHED LIMIT.\n",
      "\n",
      "Increase the number of iterations (max_iter) or scale the data as shown in:\n",
      "    https://scikit-learn.org/stable/modules/preprocessing.html\n",
      "Please also refer to the documentation for alternative solver options:\n",
      "    https://scikit-learn.org/stable/modules/linear_model.html#logistic-regression\n",
      "  n_iter_i = _check_optimize_result(\n"
     ]
    }
   ],
   "source": [
    "from sklearn.linear_model import LogisticRegression\n",
    "LR = LogisticRegression().fit(x_train,y_train)\n",
    "yhat_lr = LR.predict(x_test)"
   ]
  },
  {
   "cell_type": "code",
   "execution_count": 43,
   "id": "8c83b39a",
   "metadata": {},
   "outputs": [
    {
     "name": "stdout",
     "output_type": "stream",
     "text": [
      "accuracy: 1.0 \n",
      "Precision: 1.0 \n",
      "Recall: 1.0 \n",
      "F-score: 1.0\n"
     ]
    },
    {
     "data": {
      "text/plain": [
       "(1.0, 1.0, 1.0, 1.0)"
      ]
     },
     "execution_count": 43,
     "metadata": {},
     "output_type": "execute_result"
    }
   ],
   "source": [
    "accuracy_measure(y_test,yhat_lr,1)"
   ]
  },
  {
   "cell_type": "code",
   "execution_count": 44,
   "id": "ab197d4e",
   "metadata": {},
   "outputs": [
    {
     "name": "stdout",
     "output_type": "stream",
     "text": [
      "accuracy: 1.0 \n",
      "Precision: 1.0 \n",
      "Recall: 1.0 \n",
      "F-score: 1.0\n"
     ]
    },
    {
     "data": {
      "text/plain": [
       "(1.0, 1.0, 1.0, 1.0)"
      ]
     },
     "execution_count": 44,
     "metadata": {},
     "output_type": "execute_result"
    }
   ],
   "source": [
    "accuracy_measure(y_test,yhat_lr,0)"
   ]
  },
  {
   "cell_type": "markdown",
   "id": "2b65687d",
   "metadata": {},
   "source": [
    "### Decision Tree"
   ]
  },
  {
   "cell_type": "code",
   "execution_count": 45,
   "id": "54ae1fad",
   "metadata": {},
   "outputs": [],
   "source": [
    "from sklearn.tree import DecisionTreeClassifier\n",
    "drugTree = DecisionTreeClassifier(criterion=\"entropy\")\n",
    "drugTree.fit(x_train,y_train)\n",
    "predTree = drugTree.predict(x_test)"
   ]
  },
  {
   "cell_type": "code",
   "execution_count": 46,
   "id": "ea1b4b1f",
   "metadata": {},
   "outputs": [
    {
     "name": "stdout",
     "output_type": "stream",
     "text": [
      "accuracy: 1.0 \n",
      "Precision: 1.0 \n",
      "Recall: 1.0 \n",
      "F-score: 1.0\n"
     ]
    },
    {
     "data": {
      "text/plain": [
       "(1.0, 1.0, 1.0, 1.0)"
      ]
     },
     "execution_count": 46,
     "metadata": {},
     "output_type": "execute_result"
    }
   ],
   "source": [
    "accuracy_measure(y_test,predTree,1)"
   ]
  },
  {
   "cell_type": "code",
   "execution_count": 47,
   "id": "77e4163f",
   "metadata": {},
   "outputs": [
    {
     "name": "stdout",
     "output_type": "stream",
     "text": [
      "accuracy: 1.0 \n",
      "Precision: 1.0 \n",
      "Recall: 1.0 \n",
      "F-score: 1.0\n"
     ]
    },
    {
     "data": {
      "text/plain": [
       "(1.0, 1.0, 1.0, 1.0)"
      ]
     },
     "execution_count": 47,
     "metadata": {},
     "output_type": "execute_result"
    }
   ],
   "source": [
    "accuracy_measure(y_test,predTree,0)"
   ]
  },
  {
   "cell_type": "code",
   "execution_count": 48,
   "id": "fefad5ef",
   "metadata": {},
   "outputs": [],
   "source": [
    "from sklearn.tree import DecisionTreeClassifier\n",
    "drugTree = DecisionTreeClassifier(criterion=\"entropy\",max_depth = 4)\n",
    "drugTree.fit(x_train,y_train)\n",
    "predTree = drugTree.predict(x_test)"
   ]
  },
  {
   "cell_type": "code",
   "execution_count": 49,
   "id": "14ee4f48",
   "metadata": {},
   "outputs": [
    {
     "name": "stdout",
     "output_type": "stream",
     "text": [
      "accuracy: 1.0 \n",
      "Precision: 1.0 \n",
      "Recall: 1.0 \n",
      "F-score: 1.0\n"
     ]
    },
    {
     "data": {
      "text/plain": [
       "(1.0, 1.0, 1.0, 1.0)"
      ]
     },
     "execution_count": 49,
     "metadata": {},
     "output_type": "execute_result"
    }
   ],
   "source": [
    "accuracy_measure(y_test,predTree,1)"
   ]
  },
  {
   "cell_type": "code",
   "execution_count": 50,
   "id": "e15d920b",
   "metadata": {
    "scrolled": true
   },
   "outputs": [
    {
     "name": "stdout",
     "output_type": "stream",
     "text": [
      "accuracy: 1.0 \n",
      "Precision: 1.0 \n",
      "Recall: 1.0 \n",
      "F-score: 1.0\n"
     ]
    },
    {
     "data": {
      "text/plain": [
       "(1.0, 1.0, 1.0, 1.0)"
      ]
     },
     "execution_count": 50,
     "metadata": {},
     "output_type": "execute_result"
    }
   ],
   "source": [
    "accuracy_measure(y_test,predTree,0)"
   ]
  },
  {
   "cell_type": "markdown",
   "id": "28f6f66e",
   "metadata": {},
   "source": [
    "### KNN"
   ]
  },
  {
   "cell_type": "code",
   "execution_count": 51,
   "id": "bd611664",
   "metadata": {},
   "outputs": [],
   "source": [
    "from sklearn.neighbors import KNeighborsClassifier\n",
    "k = 60\n",
    "neigh = KNeighborsClassifier(n_neighbors = k).fit(x_train,y_train)\n",
    "yhat = neigh.predict(x_test)"
   ]
  },
  {
   "cell_type": "code",
   "execution_count": 52,
   "id": "20c4b37b",
   "metadata": {
    "scrolled": true
   },
   "outputs": [
    {
     "name": "stdout",
     "output_type": "stream",
     "text": [
      "accuracy: 0.943502824858757 \n",
      "Precision: 0.9831932773109243 \n",
      "Recall: 0.936 \n",
      "F-score: 0.959016393442623\n"
     ]
    },
    {
     "data": {
      "text/plain": [
       "(0.943502824858757, 0.9831932773109243, 0.936, 0.959016393442623)"
      ]
     },
     "execution_count": 52,
     "metadata": {},
     "output_type": "execute_result"
    }
   ],
   "source": [
    "accuracy_measure(y_test,yhat,1)"
   ]
  },
  {
   "cell_type": "code",
   "execution_count": 53,
   "id": "29e35448",
   "metadata": {
    "scrolled": true
   },
   "outputs": [
    {
     "name": "stdout",
     "output_type": "stream",
     "text": [
      "accuracy: 0.943502824858757 \n",
      "Precision: 0.8620689655172413 \n",
      "Recall: 0.9615384615384616 \n",
      "F-score: 0.9090909090909091\n"
     ]
    },
    {
     "data": {
      "text/plain": [
       "(0.943502824858757, 0.8620689655172413, 0.9615384615384616, 0.9090909090909091)"
      ]
     },
     "execution_count": 53,
     "metadata": {},
     "output_type": "execute_result"
    }
   ],
   "source": [
    "accuracy_measure(y_test,yhat,0)"
   ]
  },
  {
   "cell_type": "markdown",
   "id": "b9b0dc21",
   "metadata": {},
   "source": [
    "### SVM"
   ]
  },
  {
   "cell_type": "code",
   "execution_count": 54,
   "id": "e164d394",
   "metadata": {},
   "outputs": [],
   "source": [
    "from sklearn import svm\n",
    "clf = svm.SVC(kernel=\"linear\") \n",
    "clf.fit(x_train, y_train)\n",
    "yhat = clf.predict(x_test)"
   ]
  },
  {
   "cell_type": "code",
   "execution_count": 55,
   "id": "c50df03a",
   "metadata": {},
   "outputs": [
    {
     "name": "stdout",
     "output_type": "stream",
     "text": [
      "accuracy: 1.0 \n",
      "Precision: 1.0 \n",
      "Recall: 1.0 \n",
      "F-score: 1.0\n"
     ]
    },
    {
     "data": {
      "text/plain": [
       "(1.0, 1.0, 1.0, 1.0)"
      ]
     },
     "execution_count": 55,
     "metadata": {},
     "output_type": "execute_result"
    }
   ],
   "source": [
    "accuracy_measure(y_test,yhat,1)"
   ]
  },
  {
   "cell_type": "code",
   "execution_count": 56,
   "id": "709442b9",
   "metadata": {},
   "outputs": [
    {
     "name": "stdout",
     "output_type": "stream",
     "text": [
      "accuracy: 1.0 \n",
      "Precision: 1.0 \n",
      "Recall: 1.0 \n",
      "F-score: 1.0\n"
     ]
    },
    {
     "data": {
      "text/plain": [
       "(1.0, 1.0, 1.0, 1.0)"
      ]
     },
     "execution_count": 56,
     "metadata": {},
     "output_type": "execute_result"
    }
   ],
   "source": [
    "accuracy_measure(y_test,yhat,0)"
   ]
  },
  {
   "cell_type": "code",
   "execution_count": 57,
   "id": "f8ba2448",
   "metadata": {},
   "outputs": [],
   "source": [
    "from sklearn import svm\n",
    "clf = svm.SVC(kernel=\"sigmoid\") \n",
    "clf.fit(x_train, y_train)\n",
    "yhat = clf.predict(x_test)"
   ]
  },
  {
   "cell_type": "code",
   "execution_count": 58,
   "id": "1f061456",
   "metadata": {},
   "outputs": [
    {
     "name": "stdout",
     "output_type": "stream",
     "text": [
      "accuracy: 0.9265536723163842 \n",
      "Precision: 0.9307692307692308 \n",
      "Recall: 0.968 \n",
      "F-score: 0.9490196078431372\n"
     ]
    },
    {
     "data": {
      "text/plain": [
       "(0.9265536723163842, 0.9307692307692308, 0.968, 0.9490196078431372)"
      ]
     },
     "execution_count": 58,
     "metadata": {},
     "output_type": "execute_result"
    }
   ],
   "source": [
    "accuracy_measure(y_test,yhat,1)"
   ]
  },
  {
   "cell_type": "code",
   "execution_count": 59,
   "id": "224b0b41",
   "metadata": {},
   "outputs": [
    {
     "name": "stdout",
     "output_type": "stream",
     "text": [
      "accuracy: 0.9265536723163842 \n",
      "Precision: 0.9148936170212766 \n",
      "Recall: 0.8269230769230769 \n",
      "F-score: 0.8686868686868686\n"
     ]
    },
    {
     "data": {
      "text/plain": [
       "(0.9265536723163842,\n",
       " 0.9148936170212766,\n",
       " 0.8269230769230769,\n",
       " 0.8686868686868686)"
      ]
     },
     "execution_count": 59,
     "metadata": {},
     "output_type": "execute_result"
    }
   ],
   "source": [
    "accuracy_measure(y_test,yhat,0)"
   ]
  },
  {
   "cell_type": "code",
   "execution_count": 60,
   "id": "a9ba5782",
   "metadata": {},
   "outputs": [],
   "source": [
    "from sklearn import svm\n",
    "clf = svm.SVC(kernel=\"poly\") \n",
    "clf.fit(x_train, y_train)\n",
    "yhat = clf.predict(x_test)"
   ]
  },
  {
   "cell_type": "code",
   "execution_count": 61,
   "id": "9b5e30b1",
   "metadata": {},
   "outputs": [
    {
     "name": "stdout",
     "output_type": "stream",
     "text": [
      "accuracy: 0.9152542372881356 \n",
      "Precision: 0.9910714285714286 \n",
      "Recall: 0.888 \n",
      "F-score: 0.9367088607594937\n"
     ]
    },
    {
     "data": {
      "text/plain": [
       "(0.9152542372881356, 0.9910714285714286, 0.888, 0.9367088607594937)"
      ]
     },
     "execution_count": 61,
     "metadata": {},
     "output_type": "execute_result"
    }
   ],
   "source": [
    "accuracy_measure(y_test,yhat,1)"
   ]
  },
  {
   "cell_type": "code",
   "execution_count": 62,
   "id": "f86d5300",
   "metadata": {},
   "outputs": [
    {
     "name": "stdout",
     "output_type": "stream",
     "text": [
      "accuracy: 0.9152542372881356 \n",
      "Precision: 0.7846153846153846 \n",
      "Recall: 0.9807692307692307 \n",
      "F-score: 0.8717948717948717\n"
     ]
    },
    {
     "data": {
      "text/plain": [
       "(0.9152542372881356,\n",
       " 0.7846153846153846,\n",
       " 0.9807692307692307,\n",
       " 0.8717948717948717)"
      ]
     },
     "execution_count": 62,
     "metadata": {},
     "output_type": "execute_result"
    }
   ],
   "source": [
    "accuracy_measure(y_test,yhat,0)"
   ]
  },
  {
   "cell_type": "markdown",
   "id": "ae8b8322",
   "metadata": {},
   "source": [
    "### Naive Bayes"
   ]
  },
  {
   "cell_type": "code",
   "execution_count": 63,
   "id": "8b20a691",
   "metadata": {},
   "outputs": [],
   "source": [
    "from sklearn.naive_bayes import GaussianNB\n",
    "gnb = GaussianNB()\n",
    "gnb.fit(x_train, y_train)\n",
    "yhat = gnb.predict(x_test)"
   ]
  },
  {
   "cell_type": "code",
   "execution_count": 64,
   "id": "6710c5ef",
   "metadata": {},
   "outputs": [
    {
     "name": "stdout",
     "output_type": "stream",
     "text": [
      "accuracy: 1.0 \n",
      "Precision: 1.0 \n",
      "Recall: 1.0 \n",
      "F-score: 1.0\n"
     ]
    },
    {
     "data": {
      "text/plain": [
       "(1.0, 1.0, 1.0, 1.0)"
      ]
     },
     "execution_count": 64,
     "metadata": {},
     "output_type": "execute_result"
    }
   ],
   "source": [
    "accuracy_measure(y_test,yhat,1)"
   ]
  },
  {
   "cell_type": "code",
   "execution_count": 65,
   "id": "67b6d439",
   "metadata": {},
   "outputs": [
    {
     "name": "stdout",
     "output_type": "stream",
     "text": [
      "accuracy: 1.0 \n",
      "Precision: 1.0 \n",
      "Recall: 1.0 \n",
      "F-score: 1.0\n"
     ]
    },
    {
     "data": {
      "text/plain": [
       "(1.0, 1.0, 1.0, 1.0)"
      ]
     },
     "execution_count": 65,
     "metadata": {},
     "output_type": "execute_result"
    }
   ],
   "source": [
    "accuracy_measure(y_test,yhat,0)"
   ]
  },
  {
   "cell_type": "markdown",
   "id": "a82fe7c5",
   "metadata": {},
   "source": []
  },
  {
   "cell_type": "markdown",
   "id": "8ad792d0",
   "metadata": {},
   "source": [
    "__CONCLUSION__"
   ]
  },
  {
   "cell_type": "code",
   "execution_count": null,
   "id": "3683d014",
   "metadata": {},
   "outputs": [],
   "source": []
  },
  {
   "cell_type": "markdown",
   "id": "f3061d14",
   "metadata": {},
   "source": [
    "## Ensemble Models"
   ]
  },
  {
   "cell_type": "code",
   "execution_count": null,
   "id": "e3aa4bc6",
   "metadata": {},
   "outputs": [],
   "source": []
  },
  {
   "cell_type": "markdown",
   "id": "928aba80",
   "metadata": {},
   "source": [
    "### Random Forest"
   ]
  },
  {
   "cell_type": "code",
   "execution_count": 66,
   "id": "fff2ce90",
   "metadata": {},
   "outputs": [
    {
     "name": "stdout",
     "output_type": "stream",
     "text": [
      "Number of Trees used :  100\n",
      "\n",
      "accuracy_score on train dataset :  1.0\n",
      "\n",
      "accuracy_score on test dataset :  1.0\n"
     ]
    }
   ],
   "source": [
    "from sklearn.ensemble import RandomForestClassifier\n",
    "from sklearn.metrics import accuracy_score\n",
    "\n",
    "model = RandomForestClassifier()\n",
    "\n",
    "# fit the model with the training data\n",
    "model.fit(x_train,y_train)\n",
    "\n",
    "# number of trees used\n",
    "print('Number of Trees used : ', model.n_estimators)\n",
    "\n",
    "# predict the target on the train dataset\n",
    "predict_train = model.predict(x_train)\n",
    " \n",
    "\n",
    "# Accuray Score on train dataset\n",
    "accuracy_train = accuracy_score(y_train,predict_train)\n",
    "print('\\naccuracy_score on train dataset : ', accuracy_train)\n",
    "\n",
    "# predict the target on the test dataset\n",
    "predict_test = model.predict(x_test)\n",
    "\n",
    "\n",
    "# Accuracy Score on test dataset\n",
    "accuracy_test = accuracy_score(y_test,predict_test)\n",
    "print('\\naccuracy_score on test dataset : ', accuracy_test)\n"
   ]
  },
  {
   "cell_type": "code",
   "execution_count": 67,
   "id": "f3a1f7c8",
   "metadata": {},
   "outputs": [
    {
     "name": "stdout",
     "output_type": "stream",
     "text": [
      "accuracy: 1.0 \n",
      "Precision: 1.0 \n",
      "Recall: 1.0 \n",
      "F-score: 1.0\n"
     ]
    },
    {
     "data": {
      "text/plain": [
       "(1.0, 1.0, 1.0, 1.0)"
      ]
     },
     "execution_count": 67,
     "metadata": {},
     "output_type": "execute_result"
    }
   ],
   "source": [
    "accuracy_measure(y_test,predict_test,1)"
   ]
  },
  {
   "cell_type": "code",
   "execution_count": 68,
   "id": "084efe05",
   "metadata": {
    "scrolled": true
   },
   "outputs": [
    {
     "name": "stdout",
     "output_type": "stream",
     "text": [
      "accuracy: 1.0 \n",
      "Precision: 1.0 \n",
      "Recall: 1.0 \n",
      "F-score: 1.0\n"
     ]
    },
    {
     "data": {
      "text/plain": [
       "(1.0, 1.0, 1.0, 1.0)"
      ]
     },
     "execution_count": 68,
     "metadata": {},
     "output_type": "execute_result"
    }
   ],
   "source": [
    "accuracy_measure(y_test,predict_test,0)"
   ]
  },
  {
   "cell_type": "code",
   "execution_count": null,
   "id": "45d12b2c",
   "metadata": {},
   "outputs": [],
   "source": []
  },
  {
   "cell_type": "markdown",
   "id": "e96a8ed7",
   "metadata": {},
   "source": [
    "### Stacking"
   ]
  },
  {
   "cell_type": "code",
   "execution_count": 69,
   "id": "bbe0059d",
   "metadata": {},
   "outputs": [
    {
     "data": {
      "text/plain": [
       "StackingClassifier(estimators=[('dt', DecisionTreeClassifier(random_state=1)),\n",
       "                               ('nb', GaussianNB())])"
      ]
     },
     "execution_count": 69,
     "metadata": {},
     "output_type": "execute_result"
    }
   ],
   "source": [
    "from sklearn.linear_model import LogisticRegression\n",
    "from sklearn.ensemble import StackingClassifier\n",
    "model1=DecisionTreeClassifier(random_state=1)\n",
    "model2= GaussianNB()\n",
    "estimators = [ ('dt', model1),('nb', model2)]\n",
    "clf = StackingClassifier(estimators=estimators)\n",
    "clf.fit(x_train, y_train)\n"
   ]
  },
  {
   "cell_type": "code",
   "execution_count": 70,
   "id": "9dd2583f",
   "metadata": {},
   "outputs": [],
   "source": [
    "predict_test = clf.predict(x_test)"
   ]
  },
  {
   "cell_type": "code",
   "execution_count": 71,
   "id": "a089b2d1",
   "metadata": {},
   "outputs": [
    {
     "name": "stdout",
     "output_type": "stream",
     "text": [
      "accuracy: 1.0 \n",
      "Precision: 1.0 \n",
      "Recall: 1.0 \n",
      "F-score: 1.0\n"
     ]
    },
    {
     "data": {
      "text/plain": [
       "(1.0, 1.0, 1.0, 1.0)"
      ]
     },
     "execution_count": 71,
     "metadata": {},
     "output_type": "execute_result"
    }
   ],
   "source": [
    "accuracy_measure(y_test,predict_test,1)"
   ]
  },
  {
   "cell_type": "code",
   "execution_count": 72,
   "id": "aa9e4828",
   "metadata": {},
   "outputs": [
    {
     "name": "stdout",
     "output_type": "stream",
     "text": [
      "accuracy: 1.0 \n",
      "Precision: 1.0 \n",
      "Recall: 1.0 \n",
      "F-score: 1.0\n"
     ]
    },
    {
     "data": {
      "text/plain": [
       "(1.0, 1.0, 1.0, 1.0)"
      ]
     },
     "execution_count": 72,
     "metadata": {},
     "output_type": "execute_result"
    }
   ],
   "source": [
    "accuracy_measure(y_test,predict_test,0)"
   ]
  },
  {
   "cell_type": "code",
   "execution_count": null,
   "id": "9d69291f",
   "metadata": {},
   "outputs": [],
   "source": []
  },
  {
   "cell_type": "code",
   "execution_count": 73,
   "id": "d44ba92a",
   "metadata": {},
   "outputs": [
    {
     "name": "stderr",
     "output_type": "stream",
     "text": [
      "F:\\anaconda3\\lib\\site-packages\\sklearn\\linear_model\\_logistic.py:814: ConvergenceWarning: lbfgs failed to converge (status=1):\n",
      "STOP: TOTAL NO. of ITERATIONS REACHED LIMIT.\n",
      "\n",
      "Increase the number of iterations (max_iter) or scale the data as shown in:\n",
      "    https://scikit-learn.org/stable/modules/preprocessing.html\n",
      "Please also refer to the documentation for alternative solver options:\n",
      "    https://scikit-learn.org/stable/modules/linear_model.html#logistic-regression\n",
      "  n_iter_i = _check_optimize_result(\n",
      "F:\\anaconda3\\lib\\site-packages\\sklearn\\linear_model\\_logistic.py:814: ConvergenceWarning: lbfgs failed to converge (status=1):\n",
      "STOP: TOTAL NO. of ITERATIONS REACHED LIMIT.\n",
      "\n",
      "Increase the number of iterations (max_iter) or scale the data as shown in:\n",
      "    https://scikit-learn.org/stable/modules/preprocessing.html\n",
      "Please also refer to the documentation for alternative solver options:\n",
      "    https://scikit-learn.org/stable/modules/linear_model.html#logistic-regression\n",
      "  n_iter_i = _check_optimize_result(\n",
      "F:\\anaconda3\\lib\\site-packages\\sklearn\\linear_model\\_logistic.py:814: ConvergenceWarning: lbfgs failed to converge (status=1):\n",
      "STOP: TOTAL NO. of ITERATIONS REACHED LIMIT.\n",
      "\n",
      "Increase the number of iterations (max_iter) or scale the data as shown in:\n",
      "    https://scikit-learn.org/stable/modules/preprocessing.html\n",
      "Please also refer to the documentation for alternative solver options:\n",
      "    https://scikit-learn.org/stable/modules/linear_model.html#logistic-regression\n",
      "  n_iter_i = _check_optimize_result(\n",
      "F:\\anaconda3\\lib\\site-packages\\sklearn\\linear_model\\_logistic.py:814: ConvergenceWarning: lbfgs failed to converge (status=1):\n",
      "STOP: TOTAL NO. of ITERATIONS REACHED LIMIT.\n",
      "\n",
      "Increase the number of iterations (max_iter) or scale the data as shown in:\n",
      "    https://scikit-learn.org/stable/modules/preprocessing.html\n",
      "Please also refer to the documentation for alternative solver options:\n",
      "    https://scikit-learn.org/stable/modules/linear_model.html#logistic-regression\n",
      "  n_iter_i = _check_optimize_result(\n",
      "F:\\anaconda3\\lib\\site-packages\\sklearn\\linear_model\\_logistic.py:814: ConvergenceWarning: lbfgs failed to converge (status=1):\n",
      "STOP: TOTAL NO. of ITERATIONS REACHED LIMIT.\n",
      "\n",
      "Increase the number of iterations (max_iter) or scale the data as shown in:\n",
      "    https://scikit-learn.org/stable/modules/preprocessing.html\n",
      "Please also refer to the documentation for alternative solver options:\n",
      "    https://scikit-learn.org/stable/modules/linear_model.html#logistic-regression\n",
      "  n_iter_i = _check_optimize_result(\n",
      "F:\\anaconda3\\lib\\site-packages\\sklearn\\linear_model\\_logistic.py:814: ConvergenceWarning: lbfgs failed to converge (status=1):\n",
      "STOP: TOTAL NO. of ITERATIONS REACHED LIMIT.\n",
      "\n",
      "Increase the number of iterations (max_iter) or scale the data as shown in:\n",
      "    https://scikit-learn.org/stable/modules/preprocessing.html\n",
      "Please also refer to the documentation for alternative solver options:\n",
      "    https://scikit-learn.org/stable/modules/linear_model.html#logistic-regression\n",
      "  n_iter_i = _check_optimize_result(\n"
     ]
    },
    {
     "data": {
      "text/plain": [
       "StackingClassifier(estimators=[('dt', DecisionTreeClassifier(random_state=1)),\n",
       "                               ('nb', GaussianNB()),\n",
       "                               ('lr', LogisticRegression())])"
      ]
     },
     "execution_count": 73,
     "metadata": {},
     "output_type": "execute_result"
    }
   ],
   "source": [
    "from sklearn.linear_model import LogisticRegression\n",
    "from sklearn.ensemble import StackingClassifier\n",
    "model1=DecisionTreeClassifier(random_state=1)\n",
    "model2= GaussianNB()\n",
    "model3=  LogisticRegression()\n",
    "estimators = [ ('dt', model1),('nb', model2),(\"lr\",model3)]\n",
    "clf = StackingClassifier(estimators=estimators)\n",
    "clf.fit(x_train, y_train)\n"
   ]
  },
  {
   "cell_type": "code",
   "execution_count": 74,
   "id": "b83e0512",
   "metadata": {},
   "outputs": [],
   "source": [
    "predict_test = clf.predict(x_test)"
   ]
  },
  {
   "cell_type": "code",
   "execution_count": 75,
   "id": "ff11937f",
   "metadata": {
    "scrolled": true
   },
   "outputs": [
    {
     "name": "stdout",
     "output_type": "stream",
     "text": [
      "accuracy: 1.0 \n",
      "Precision: 1.0 \n",
      "Recall: 1.0 \n",
      "F-score: 1.0\n"
     ]
    },
    {
     "data": {
      "text/plain": [
       "(1.0, 1.0, 1.0, 1.0)"
      ]
     },
     "execution_count": 75,
     "metadata": {},
     "output_type": "execute_result"
    }
   ],
   "source": [
    "accuracy_measure(y_test,predict_test,1)"
   ]
  },
  {
   "cell_type": "code",
   "execution_count": 76,
   "id": "1832d77c",
   "metadata": {
    "scrolled": true
   },
   "outputs": [
    {
     "name": "stdout",
     "output_type": "stream",
     "text": [
      "accuracy: 1.0 \n",
      "Precision: 1.0 \n",
      "Recall: 1.0 \n",
      "F-score: 1.0\n"
     ]
    },
    {
     "data": {
      "text/plain": [
       "(1.0, 1.0, 1.0, 1.0)"
      ]
     },
     "execution_count": 76,
     "metadata": {},
     "output_type": "execute_result"
    }
   ],
   "source": [
    "accuracy_measure(y_test,predict_test,0)"
   ]
  },
  {
   "cell_type": "markdown",
   "id": "d7da6324",
   "metadata": {},
   "source": [
    "### Bagging "
   ]
  },
  {
   "cell_type": "code",
   "execution_count": 77,
   "id": "062ab2eb",
   "metadata": {},
   "outputs": [],
   "source": [
    "from sklearn.ensemble import BaggingClassifier\n",
    "from sklearn import tree\n",
    "model = BaggingClassifier(tree.DecisionTreeClassifier(random_state=1))\n",
    "model.fit(x_train, y_train)\n",
    "predict_test = model.predict(x_test)"
   ]
  },
  {
   "cell_type": "code",
   "execution_count": 78,
   "id": "04c63e29",
   "metadata": {},
   "outputs": [
    {
     "name": "stdout",
     "output_type": "stream",
     "text": [
      "accuracy: 1.0 \n",
      "Precision: 1.0 \n",
      "Recall: 1.0 \n",
      "F-score: 1.0\n"
     ]
    },
    {
     "data": {
      "text/plain": [
       "(1.0, 1.0, 1.0, 1.0)"
      ]
     },
     "execution_count": 78,
     "metadata": {},
     "output_type": "execute_result"
    }
   ],
   "source": [
    "accuracy_measure(y_test,predict_test,1)"
   ]
  },
  {
   "cell_type": "code",
   "execution_count": 79,
   "id": "8da6cadb",
   "metadata": {
    "scrolled": false
   },
   "outputs": [
    {
     "name": "stdout",
     "output_type": "stream",
     "text": [
      "accuracy: 1.0 \n",
      "Precision: 1.0 \n",
      "Recall: 1.0 \n",
      "F-score: 1.0\n"
     ]
    },
    {
     "data": {
      "text/plain": [
       "(1.0, 1.0, 1.0, 1.0)"
      ]
     },
     "execution_count": 79,
     "metadata": {},
     "output_type": "execute_result"
    }
   ],
   "source": [
    "accuracy_measure(y_test,predict_test,0)"
   ]
  },
  {
   "cell_type": "markdown",
   "id": "793beafb",
   "metadata": {},
   "source": [
    "### Adaboost"
   ]
  },
  {
   "cell_type": "code",
   "execution_count": null,
   "id": "82ba5800",
   "metadata": {},
   "outputs": [],
   "source": []
  },
  {
   "cell_type": "code",
   "execution_count": 80,
   "id": "08e354e7",
   "metadata": {},
   "outputs": [],
   "source": [
    "from sklearn.ensemble import AdaBoostClassifier\n",
    "model = AdaBoostClassifier(random_state=1)\n",
    "model.fit(x_train, y_train)\n",
    "predict_test =model.predict(x_test)"
   ]
  },
  {
   "cell_type": "code",
   "execution_count": 81,
   "id": "d516b7c8",
   "metadata": {},
   "outputs": [
    {
     "name": "stdout",
     "output_type": "stream",
     "text": [
      "accuracy: 1.0 \n",
      "Precision: 1.0 \n",
      "Recall: 1.0 \n",
      "F-score: 1.0\n"
     ]
    },
    {
     "data": {
      "text/plain": [
       "(1.0, 1.0, 1.0, 1.0)"
      ]
     },
     "execution_count": 81,
     "metadata": {},
     "output_type": "execute_result"
    }
   ],
   "source": [
    "accuracy_measure(y_test,predict_test,1)"
   ]
  },
  {
   "cell_type": "code",
   "execution_count": 82,
   "id": "116cac21",
   "metadata": {
    "scrolled": true
   },
   "outputs": [
    {
     "name": "stdout",
     "output_type": "stream",
     "text": [
      "accuracy: 1.0 \n",
      "Precision: 1.0 \n",
      "Recall: 1.0 \n",
      "F-score: 1.0\n"
     ]
    },
    {
     "data": {
      "text/plain": [
       "(1.0, 1.0, 1.0, 1.0)"
      ]
     },
     "execution_count": 82,
     "metadata": {},
     "output_type": "execute_result"
    }
   ],
   "source": [
    "accuracy_measure(y_test,predict_test,0)"
   ]
  },
  {
   "cell_type": "markdown",
   "id": "225ff360",
   "metadata": {},
   "source": [
    "### GDM"
   ]
  },
  {
   "cell_type": "code",
   "execution_count": 83,
   "id": "03e7f3f4",
   "metadata": {},
   "outputs": [],
   "source": [
    "from sklearn.ensemble import GradientBoostingClassifier\n",
    "model= GradientBoostingClassifier(learning_rate=0.01,random_state=1)\n",
    "model.fit(x_train, y_train)\n",
    "predict_test = model.predict(x_test)"
   ]
  },
  {
   "cell_type": "code",
   "execution_count": 84,
   "id": "6a5f0992",
   "metadata": {},
   "outputs": [
    {
     "name": "stdout",
     "output_type": "stream",
     "text": [
      "accuracy: 1.0 \n",
      "Precision: 1.0 \n",
      "Recall: 1.0 \n",
      "F-score: 1.0\n"
     ]
    },
    {
     "data": {
      "text/plain": [
       "(1.0, 1.0, 1.0, 1.0)"
      ]
     },
     "execution_count": 84,
     "metadata": {},
     "output_type": "execute_result"
    }
   ],
   "source": [
    "accuracy_measure(y_test,predict_test,1)"
   ]
  },
  {
   "cell_type": "code",
   "execution_count": 85,
   "id": "ab174832",
   "metadata": {},
   "outputs": [
    {
     "name": "stdout",
     "output_type": "stream",
     "text": [
      "accuracy: 1.0 \n",
      "Precision: 1.0 \n",
      "Recall: 1.0 \n",
      "F-score: 1.0\n"
     ]
    },
    {
     "data": {
      "text/plain": [
       "(1.0, 1.0, 1.0, 1.0)"
      ]
     },
     "execution_count": 85,
     "metadata": {},
     "output_type": "execute_result"
    }
   ],
   "source": [
    "accuracy_measure(y_test,predict_test,0)"
   ]
  },
  {
   "cell_type": "markdown",
   "id": "ddf9b2e1",
   "metadata": {},
   "source": [
    "### XGBoost"
   ]
  },
  {
   "cell_type": "code",
   "execution_count": 86,
   "id": "598a751c",
   "metadata": {},
   "outputs": [
    {
     "ename": "ModuleNotFoundError",
     "evalue": "No module named 'xgboost'",
     "output_type": "error",
     "traceback": [
      "\u001b[1;31m---------------------------------------------------------------------------\u001b[0m",
      "\u001b[1;31mModuleNotFoundError\u001b[0m                       Traceback (most recent call last)",
      "Input \u001b[1;32mIn [86]\u001b[0m, in \u001b[0;36m<cell line: 1>\u001b[1;34m()\u001b[0m\n\u001b[1;32m----> 1\u001b[0m \u001b[38;5;28;01mimport\u001b[39;00m \u001b[38;5;21;01mxgboost\u001b[39;00m \u001b[38;5;28;01mas\u001b[39;00m \u001b[38;5;21;01mxgb\u001b[39;00m\n\u001b[0;32m      2\u001b[0m model\u001b[38;5;241m=\u001b[39mxgb\u001b[38;5;241m.\u001b[39mXGBClassifier(random_state\u001b[38;5;241m=\u001b[39m\u001b[38;5;241m1\u001b[39m,learning_rate\u001b[38;5;241m=\u001b[39m\u001b[38;5;241m0.01\u001b[39m)\n\u001b[0;32m      3\u001b[0m model\u001b[38;5;241m.\u001b[39mfit(x_train, y_train)\n",
      "\u001b[1;31mModuleNotFoundError\u001b[0m: No module named 'xgboost'"
     ]
    }
   ],
   "source": [
    "import xgboost as xgb\n",
    "model=xgb.XGBClassifier(random_state=1,learning_rate=0.01)\n",
    "model.fit(x_train, y_train)\n",
    "predict_test =model.predict(x_test)"
   ]
  },
  {
   "cell_type": "code",
   "execution_count": 87,
   "id": "8b8f92f0",
   "metadata": {},
   "outputs": [
    {
     "name": "stdout",
     "output_type": "stream",
     "text": [
      "accuracy: 1.0 \n",
      "Precision: 1.0 \n",
      "Recall: 1.0 \n",
      "F-score: 1.0\n"
     ]
    },
    {
     "data": {
      "text/plain": [
       "(1.0, 1.0, 1.0, 1.0)"
      ]
     },
     "execution_count": 87,
     "metadata": {},
     "output_type": "execute_result"
    }
   ],
   "source": [
    "accuracy_measure(y_test,predict_test,1)"
   ]
  },
  {
   "cell_type": "code",
   "execution_count": 109,
   "id": "20395058",
   "metadata": {},
   "outputs": [
    {
     "name": "stdout",
     "output_type": "stream",
     "text": [
      "accuracy: 0.7931034482758621 \n",
      "Precision: 0.8311688311688312 \n",
      "Recall: 0.8533333333333334 \n",
      "F-score: 0.8421052631578949\n"
     ]
    },
    {
     "data": {
      "text/plain": [
       "(0.7931034482758621,\n",
       " 0.8311688311688312,\n",
       " 0.8533333333333334,\n",
       " 0.8421052631578949)"
      ]
     },
     "execution_count": 109,
     "metadata": {},
     "output_type": "execute_result"
    }
   ],
   "source": [
    "accuracy_measure(y_test,predict_test,0)"
   ]
  },
  {
   "cell_type": "code",
   "execution_count": null,
   "id": "d2d37f49",
   "metadata": {},
   "outputs": [],
   "source": []
  },
  {
   "cell_type": "markdown",
   "id": "394ad8ec",
   "metadata": {},
   "source": [
    "__CONCLUSION__"
   ]
  },
  {
   "cell_type": "markdown",
   "id": "11c39bac",
   "metadata": {},
   "source": [
    "* __In terms of accuracy of all the models Adaboost gave highest accuracy of around 81% followed by svm with kernel as poly (80%) and logisitc (79%)__\n",
    "* __Since Recall for \"Outcome\" = 1 is much more important (As its imbalanced data set and prediction of 1 correctly is more important) Random forest gave the highest recall (70%) for \"outcome\" = 1__"
   ]
  }
 ],
 "metadata": {
  "kernelspec": {
   "display_name": "Python 3 (ipykernel)",
   "language": "python",
   "name": "python3"
  },
  "language_info": {
   "codemirror_mode": {
    "name": "ipython",
    "version": 3
   },
   "file_extension": ".py",
   "mimetype": "text/x-python",
   "name": "python",
   "nbconvert_exporter": "python",
   "pygments_lexer": "ipython3",
   "version": "3.9.12"
  }
 },
 "nbformat": 4,
 "nbformat_minor": 5
}
